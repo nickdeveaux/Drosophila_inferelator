{
 "cells": [
  {
   "cell_type": "code",
   "execution_count": 7,
   "metadata": {
    "collapsed": true
   },
   "outputs": [],
   "source": [
    "import csv\n",
    "import os\n",
    "import scipy.io\n",
    "import matplotlib.pyplot as plt\n",
    "%matplotlib inline\n",
    "import seaborn as sns\n",
    "import numpy as np\n",
    "import pandas as pd"
   ]
  },
  {
   "cell_type": "markdown",
   "metadata": {},
   "source": [
    "## Motivation\n",
    "    Of the 7 cell types, this is most well understood from the biological perspective. As a result, here is an opportunity to use existing knowledge hone the right methods. Variables to consider:\n",
    "    - TF Activity vs Expression\n",
    "    - Strength of filter on expression matrix\n",
    "    - Expression data: Log transform or not; Batch corrected data or not\n",
    "    - Prior filtering: using DamID, honing FIMO p-values"
   ]
  },
  {
   "cell_type": "markdown",
   "metadata": {},
   "source": [
    "### Convert gene symbols to Gene ids\n",
    "\n",
    "This section is taken directly from \"Create TSV from Matrix\"\n"
   ]
  },
  {
   "cell_type": "code",
   "execution_count": 8,
   "metadata": {},
   "outputs": [
    {
     "data": {
      "text/html": [
       "<div>\n",
       "<table border=\"1\" class=\"dataframe\">\n",
       "  <thead>\n",
       "    <tr style=\"text-align: right;\">\n",
       "      <th></th>\n",
       "      <th>0</th>\n",
       "      <th>1</th>\n",
       "      <th>2</th>\n",
       "      <th>3</th>\n",
       "      <th>4</th>\n",
       "      <th>5</th>\n",
       "      <th>6</th>\n",
       "      <th>7</th>\n",
       "      <th>8</th>\n",
       "    </tr>\n",
       "  </thead>\n",
       "  <tbody>\n",
       "    <tr>\n",
       "      <th>0</th>\n",
       "      <td>3R</td>\n",
       "      <td>FlyBase</td>\n",
       "      <td>gene</td>\n",
       "      <td>567076</td>\n",
       "      <td>2532932</td>\n",
       "      <td>.</td>\n",
       "      <td>+</td>\n",
       "      <td>.</td>\n",
       "      <td>gene_id \"FBgn0267431\"; gene_name \"Myo81F\"; gen...</td>\n",
       "    </tr>\n",
       "    <tr>\n",
       "      <th>1</th>\n",
       "      <td>3R</td>\n",
       "      <td>FlyBase</td>\n",
       "      <td>gene</td>\n",
       "      <td>722370</td>\n",
       "      <td>722621</td>\n",
       "      <td>.</td>\n",
       "      <td>-</td>\n",
       "      <td>.</td>\n",
       "      <td>gene_id \"FBgn0085804\"; gene_name \"CR41571\"; ge...</td>\n",
       "    </tr>\n",
       "    <tr>\n",
       "      <th>2</th>\n",
       "      <td>3R</td>\n",
       "      <td>FlyBase</td>\n",
       "      <td>gene</td>\n",
       "      <td>1031171</td>\n",
       "      <td>1031354</td>\n",
       "      <td>.</td>\n",
       "      <td>+</td>\n",
       "      <td>.</td>\n",
       "      <td>gene_id \"FBgn0039987\"; gene_name \"CR12798\"; ge...</td>\n",
       "    </tr>\n",
       "    <tr>\n",
       "      <th>3</th>\n",
       "      <td>3R</td>\n",
       "      <td>FlyBase</td>\n",
       "      <td>gene</td>\n",
       "      <td>1366234</td>\n",
       "      <td>1366601</td>\n",
       "      <td>.</td>\n",
       "      <td>-</td>\n",
       "      <td>.</td>\n",
       "      <td>gene_id \"FBgn0267798\"; gene_name \"CR46123\"; ge...</td>\n",
       "    </tr>\n",
       "    <tr>\n",
       "      <th>4</th>\n",
       "      <td>3R</td>\n",
       "      <td>FlyBase</td>\n",
       "      <td>gene</td>\n",
       "      <td>1865108</td>\n",
       "      <td>1866008</td>\n",
       "      <td>.</td>\n",
       "      <td>-</td>\n",
       "      <td>.</td>\n",
       "      <td>gene_id \"FBgn0267797\"; gene_name \"CR46122\"; ge...</td>\n",
       "    </tr>\n",
       "  </tbody>\n",
       "</table>\n",
       "</div>"
      ],
      "text/plain": [
       "    0        1     2        3        4  5  6  7  \\\n",
       "0  3R  FlyBase  gene   567076  2532932  .  +  .   \n",
       "1  3R  FlyBase  gene   722370   722621  .  -  .   \n",
       "2  3R  FlyBase  gene  1031171  1031354  .  +  .   \n",
       "3  3R  FlyBase  gene  1366234  1366601  .  -  .   \n",
       "4  3R  FlyBase  gene  1865108  1866008  .  -  .   \n",
       "\n",
       "                                                   8  \n",
       "0  gene_id \"FBgn0267431\"; gene_name \"Myo81F\"; gen...  \n",
       "1  gene_id \"FBgn0085804\"; gene_name \"CR41571\"; ge...  \n",
       "2  gene_id \"FBgn0039987\"; gene_name \"CR12798\"; ge...  \n",
       "3  gene_id \"FBgn0267798\"; gene_name \"CR46123\"; ge...  \n",
       "4  gene_id \"FBgn0267797\"; gene_name \"CR46122\"; ge...  "
      ]
     },
     "execution_count": 8,
     "metadata": {},
     "output_type": "execute_result"
    }
   ],
   "source": [
    "gtf = pd.read_csv('~/Dev/Drosophila_inferelator/Drosophila_melanogaster.BDGP6.91.genes.gtf', sep='\\t', header = None)\n",
    "gene_sym_to_id = {}\n",
    "gtf.head()"
   ]
  },
  {
   "cell_type": "code",
   "execution_count": 9,
   "metadata": {
    "collapsed": true
   },
   "outputs": [],
   "source": [
    "for (idx, row) in gtf.iterrows():\n",
    "    st = row[8]\n",
    "    splits = st.split(';')\n",
    "    i = splits[0].split(\" \")[1].strip('\"')\n",
    "    sym = splits[1].split(\" \")[2].strip('\"').rstrip(';').rstrip('\"').replace(';', '')\n",
    "    gene_sym_to_id[sym] = i"
   ]
  },
  {
   "cell_type": "code",
   "execution_count": 10,
   "metadata": {
    "collapsed": true
   },
   "outputs": [],
   "source": [
    "matrices_dir = \"/Users/ndeveaux/Dropbox (Simons Foundation)/Drosophila_Inferelator_Project/network_inputs_and_outputs/inputs/03_02_2018\"\n",
    "mat_file = 'TF_data.csv'"
   ]
  },
  {
   "cell_type": "code",
   "execution_count": 16,
   "metadata": {},
   "outputs": [],
   "source": [
    "exp = pd.read_csv(os.path.join(matrices_dir, mat_file), sep=',', index_col  = 0) #sep='\\t',"
   ]
  },
  {
   "cell_type": "code",
   "execution_count": 17,
   "metadata": {},
   "outputs": [
    {
     "data": {
      "text/html": [
       "<div>\n",
       "<table border=\"1\" class=\"dataframe\">\n",
       "  <thead>\n",
       "    <tr style=\"text-align: right;\">\n",
       "      <th></th>\n",
       "      <th>soma_wtF_AAACCTGTCCGCAGTG</th>\n",
       "      <th>soma_wtF_AAAGTAGCAGACGCAA</th>\n",
       "      <th>soma_wtF_AACGTTGTCTCCAACC</th>\n",
       "      <th>soma_wtF_AACTCCCAGTGCCAGA</th>\n",
       "      <th>soma_wtF_AAGACCTTCTCTGCTG</th>\n",
       "      <th>soma_wtF_AAGTCTGTCCCTGACT</th>\n",
       "      <th>soma_wtF_AATCCAGGTTATTCTC</th>\n",
       "      <th>soma_wtF_ACACCAAAGCTTCGCG</th>\n",
       "      <th>soma_wtF_ACACCAATCACCGGGT</th>\n",
       "      <th>soma_wtF_ACGCAGCGTCGACTAT</th>\n",
       "      <th>...</th>\n",
       "      <th>soma_wtJ_TGACAACGTACGACCC</th>\n",
       "      <th>soma_wtJ_TGACTTTCAGACGCTC</th>\n",
       "      <th>soma_wtJ_TGCACCTCAAGCTGGA</th>\n",
       "      <th>soma_wtJ_TGCACCTTCACAACGT</th>\n",
       "      <th>soma_wtJ_TGCCAAACATTCGACA</th>\n",
       "      <th>soma_wtJ_TGGCGCACAGCATGAG</th>\n",
       "      <th>soma_wtJ_TGGCGCACAGCCACCA</th>\n",
       "      <th>soma_wtJ_TGTCCCATCCAATGGT</th>\n",
       "      <th>soma_wtJ_TTCGGTCAGAGCTGCA</th>\n",
       "      <th>soma_wtJ_TTGTAGGGTTGGACCC</th>\n",
       "    </tr>\n",
       "  </thead>\n",
       "  <tbody>\n",
       "    <tr>\n",
       "      <th>FBgn0039266</th>\n",
       "      <td>0.498776</td>\n",
       "      <td>0.452943</td>\n",
       "      <td>1.054567</td>\n",
       "      <td>0.815635</td>\n",
       "      <td>1.438181</td>\n",
       "      <td>1.183812</td>\n",
       "      <td>1.768935</td>\n",
       "      <td>0.582660</td>\n",
       "      <td>0.000000</td>\n",
       "      <td>0.694852</td>\n",
       "      <td>...</td>\n",
       "      <td>1.405993</td>\n",
       "      <td>0.655051</td>\n",
       "      <td>0.817161</td>\n",
       "      <td>1.510867</td>\n",
       "      <td>1.156705</td>\n",
       "      <td>0.776139</td>\n",
       "      <td>1.060832</td>\n",
       "      <td>0.451694</td>\n",
       "      <td>1.664950</td>\n",
       "      <td>0.516844</td>\n",
       "    </tr>\n",
       "    <tr>\n",
       "      <th>FBgn0039265</th>\n",
       "      <td>1.078449</td>\n",
       "      <td>1.490115</td>\n",
       "      <td>1.054567</td>\n",
       "      <td>0.815635</td>\n",
       "      <td>1.144865</td>\n",
       "      <td>1.343779</td>\n",
       "      <td>0.963760</td>\n",
       "      <td>0.333179</td>\n",
       "      <td>0.568313</td>\n",
       "      <td>0.000000</td>\n",
       "      <td>...</td>\n",
       "      <td>0.479902</td>\n",
       "      <td>1.047488</td>\n",
       "      <td>1.063363</td>\n",
       "      <td>0.000000</td>\n",
       "      <td>0.546085</td>\n",
       "      <td>1.207805</td>\n",
       "      <td>0.903831</td>\n",
       "      <td>0.451694</td>\n",
       "      <td>0.000000</td>\n",
       "      <td>0.855884</td>\n",
       "    </tr>\n",
       "    <tr>\n",
       "      <th>FBgn0030674</th>\n",
       "      <td>0.000000</td>\n",
       "      <td>0.452943</td>\n",
       "      <td>0.000000</td>\n",
       "      <td>0.609987</td>\n",
       "      <td>0.728035</td>\n",
       "      <td>0.448972</td>\n",
       "      <td>0.000000</td>\n",
       "      <td>0.333179</td>\n",
       "      <td>0.000000</td>\n",
       "      <td>0.000000</td>\n",
       "      <td>...</td>\n",
       "      <td>0.000000</td>\n",
       "      <td>0.000000</td>\n",
       "      <td>0.489825</td>\n",
       "      <td>0.000000</td>\n",
       "      <td>0.000000</td>\n",
       "      <td>0.330039</td>\n",
       "      <td>0.190508</td>\n",
       "      <td>0.998024</td>\n",
       "      <td>0.728202</td>\n",
       "      <td>0.855884</td>\n",
       "    </tr>\n",
       "    <tr>\n",
       "      <th>FBgn0033788</th>\n",
       "      <td>0.000000</td>\n",
       "      <td>0.000000</td>\n",
       "      <td>0.000000</td>\n",
       "      <td>0.000000</td>\n",
       "      <td>0.000000</td>\n",
       "      <td>0.000000</td>\n",
       "      <td>0.000000</td>\n",
       "      <td>0.000000</td>\n",
       "      <td>0.000000</td>\n",
       "      <td>0.000000</td>\n",
       "      <td>...</td>\n",
       "      <td>0.000000</td>\n",
       "      <td>0.000000</td>\n",
       "      <td>0.000000</td>\n",
       "      <td>0.000000</td>\n",
       "      <td>0.000000</td>\n",
       "      <td>0.000000</td>\n",
       "      <td>0.000000</td>\n",
       "      <td>0.000000</td>\n",
       "      <td>0.000000</td>\n",
       "      <td>0.000000</td>\n",
       "    </tr>\n",
       "    <tr>\n",
       "      <th>FBgn0033792</th>\n",
       "      <td>0.000000</td>\n",
       "      <td>0.000000</td>\n",
       "      <td>0.000000</td>\n",
       "      <td>0.000000</td>\n",
       "      <td>0.000000</td>\n",
       "      <td>0.000000</td>\n",
       "      <td>0.000000</td>\n",
       "      <td>0.000000</td>\n",
       "      <td>0.000000</td>\n",
       "      <td>0.000000</td>\n",
       "      <td>...</td>\n",
       "      <td>0.000000</td>\n",
       "      <td>0.000000</td>\n",
       "      <td>0.000000</td>\n",
       "      <td>0.000000</td>\n",
       "      <td>0.000000</td>\n",
       "      <td>0.000000</td>\n",
       "      <td>0.000000</td>\n",
       "      <td>0.000000</td>\n",
       "      <td>0.000000</td>\n",
       "      <td>0.000000</td>\n",
       "    </tr>\n",
       "  </tbody>\n",
       "</table>\n",
       "<p>5 rows × 175 columns</p>\n",
       "</div>"
      ],
      "text/plain": [
       "             soma_wtF_AAACCTGTCCGCAGTG  soma_wtF_AAAGTAGCAGACGCAA  \\\n",
       "FBgn0039266                   0.498776                   0.452943   \n",
       "FBgn0039265                   1.078449                   1.490115   \n",
       "FBgn0030674                   0.000000                   0.452943   \n",
       "FBgn0033788                   0.000000                   0.000000   \n",
       "FBgn0033792                   0.000000                   0.000000   \n",
       "\n",
       "             soma_wtF_AACGTTGTCTCCAACC  soma_wtF_AACTCCCAGTGCCAGA  \\\n",
       "FBgn0039266                   1.054567                   0.815635   \n",
       "FBgn0039265                   1.054567                   0.815635   \n",
       "FBgn0030674                   0.000000                   0.609987   \n",
       "FBgn0033788                   0.000000                   0.000000   \n",
       "FBgn0033792                   0.000000                   0.000000   \n",
       "\n",
       "             soma_wtF_AAGACCTTCTCTGCTG  soma_wtF_AAGTCTGTCCCTGACT  \\\n",
       "FBgn0039266                   1.438181                   1.183812   \n",
       "FBgn0039265                   1.144865                   1.343779   \n",
       "FBgn0030674                   0.728035                   0.448972   \n",
       "FBgn0033788                   0.000000                   0.000000   \n",
       "FBgn0033792                   0.000000                   0.000000   \n",
       "\n",
       "             soma_wtF_AATCCAGGTTATTCTC  soma_wtF_ACACCAAAGCTTCGCG  \\\n",
       "FBgn0039266                   1.768935                   0.582660   \n",
       "FBgn0039265                   0.963760                   0.333179   \n",
       "FBgn0030674                   0.000000                   0.333179   \n",
       "FBgn0033788                   0.000000                   0.000000   \n",
       "FBgn0033792                   0.000000                   0.000000   \n",
       "\n",
       "             soma_wtF_ACACCAATCACCGGGT  soma_wtF_ACGCAGCGTCGACTAT  \\\n",
       "FBgn0039266                   0.000000                   0.694852   \n",
       "FBgn0039265                   0.568313                   0.000000   \n",
       "FBgn0030674                   0.000000                   0.000000   \n",
       "FBgn0033788                   0.000000                   0.000000   \n",
       "FBgn0033792                   0.000000                   0.000000   \n",
       "\n",
       "                       ...              soma_wtJ_TGACAACGTACGACCC  \\\n",
       "FBgn0039266            ...                               1.405993   \n",
       "FBgn0039265            ...                               0.479902   \n",
       "FBgn0030674            ...                               0.000000   \n",
       "FBgn0033788            ...                               0.000000   \n",
       "FBgn0033792            ...                               0.000000   \n",
       "\n",
       "             soma_wtJ_TGACTTTCAGACGCTC  soma_wtJ_TGCACCTCAAGCTGGA  \\\n",
       "FBgn0039266                   0.655051                   0.817161   \n",
       "FBgn0039265                   1.047488                   1.063363   \n",
       "FBgn0030674                   0.000000                   0.489825   \n",
       "FBgn0033788                   0.000000                   0.000000   \n",
       "FBgn0033792                   0.000000                   0.000000   \n",
       "\n",
       "             soma_wtJ_TGCACCTTCACAACGT  soma_wtJ_TGCCAAACATTCGACA  \\\n",
       "FBgn0039266                   1.510867                   1.156705   \n",
       "FBgn0039265                   0.000000                   0.546085   \n",
       "FBgn0030674                   0.000000                   0.000000   \n",
       "FBgn0033788                   0.000000                   0.000000   \n",
       "FBgn0033792                   0.000000                   0.000000   \n",
       "\n",
       "             soma_wtJ_TGGCGCACAGCATGAG  soma_wtJ_TGGCGCACAGCCACCA  \\\n",
       "FBgn0039266                   0.776139                   1.060832   \n",
       "FBgn0039265                   1.207805                   0.903831   \n",
       "FBgn0030674                   0.330039                   0.190508   \n",
       "FBgn0033788                   0.000000                   0.000000   \n",
       "FBgn0033792                   0.000000                   0.000000   \n",
       "\n",
       "             soma_wtJ_TGTCCCATCCAATGGT  soma_wtJ_TTCGGTCAGAGCTGCA  \\\n",
       "FBgn0039266                   0.451694                   1.664950   \n",
       "FBgn0039265                   0.451694                   0.000000   \n",
       "FBgn0030674                   0.998024                   0.728202   \n",
       "FBgn0033788                   0.000000                   0.000000   \n",
       "FBgn0033792                   0.000000                   0.000000   \n",
       "\n",
       "             soma_wtJ_TTGTAGGGTTGGACCC  \n",
       "FBgn0039266                   0.516844  \n",
       "FBgn0039265                   0.855884  \n",
       "FBgn0030674                   0.855884  \n",
       "FBgn0033788                   0.000000  \n",
       "FBgn0033792                   0.000000  \n",
       "\n",
       "[5 rows x 175 columns]"
      ]
     },
     "execution_count": 17,
     "metadata": {},
     "output_type": "execute_result"
    }
   ],
   "source": [
    "exp = exp.loc[set(gene_sym_to_id.keys()).intersection(exp.index), :]\n",
    "new_index = [gene_sym_to_id[sym] for sym in exp.index]\n",
    "exp.index = new_index\n",
    "exp.head()"
   ]
  },
  {
   "cell_type": "code",
   "execution_count": 19,
   "metadata": {
    "collapsed": true
   },
   "outputs": [],
   "source": [
    "row_medians = exp.median(axis=1)"
   ]
  },
  {
   "cell_type": "code",
   "execution_count": 22,
   "metadata": {
    "collapsed": true
   },
   "outputs": [],
   "source": [
    "row_means = exp.mean(axis=1)"
   ]
  },
  {
   "cell_type": "code",
   "execution_count": 26,
   "metadata": {},
   "outputs": [
    {
     "data": {
      "image/png": "[encoded data removed]",
      "text/plain": [
       "<matplotlib.figure.Figure at 0x13c4a9210>"
      ]
     },
     "metadata": {},
     "output_type": "display_data"
    }
   ],
   "source": [
    "sns.distplot(row_medians[row_medians != 0], rug=True);"
   ]
  },
  {
   "cell_type": "code",
   "execution_count": 25,
   "metadata": {},
   "outputs": [],
   "source": [
    "filtered_exp = exp[row_medians != 0]"
   ]
  },
  {
   "cell_type": "code",
   "execution_count": 76,
   "metadata": {},
   "outputs": [
    {
     "data": {
      "text/plain": [
       "<seaborn.axisgrid.JointGrid at 0x12397d810>"
      ]
     },
     "execution_count": 76,
     "metadata": {},
     "output_type": "execute_result"
    },
    {
     "data": {
      "image/png": "[encoded data removed]",
      "text/plain": [
       "<matplotlib.figure.Figure at 0x123c1d890>"
      ]
     },
     "metadata": {},
     "output_type": "display_data"
    }
   ],
   "source": []
  },
  {
   "cell_type": "code",
   "execution_count": 27,
   "metadata": {},
   "outputs": [
    {
     "data": {
      "text/plain": [
       "(2317, 175)"
      ]
     },
     "execution_count": 27,
     "metadata": {},
     "output_type": "execute_result"
    }
   ],
   "source": [
    "filtered_exp.shape"
   ]
  },
  {
   "cell_type": "code",
   "execution_count": 28,
   "metadata": {
    "collapsed": true
   },
   "outputs": [],
   "source": [
    "# Filter for 95% non-zero"
   ]
  },
  {
   "cell_type": "code",
   "execution_count": 55,
   "metadata": {
    "collapsed": true
   },
   "outputs": [],
   "source": [
    "percent_nonzero = (exp > 0).sum(axis = 1) / exp.shape[1]\n",
    "percent_nonzero_filter = .95"
   ]
  },
  {
   "cell_type": "code",
   "execution_count": 128,
   "metadata": {},
   "outputs": [],
   "source": [
    "num_genes_above_filter = []\n",
    "increment = .001\n",
    "cutoffs = [i * increment for i in range(1005) if i * increment <= 1]\n",
    "for i in cutoffs:\n",
    "    num_genes_above_filter.append(percent_nonzero[percent_nonzero > i].shape[0])\n",
    "    "
   ]
  },
  {
   "cell_type": "code",
   "execution_count": 129,
   "metadata": {},
   "outputs": [
    {
     "data": {
      "text/plain": [
       "0.0"
      ]
     },
     "execution_count": 129,
     "metadata": {},
     "output_type": "execute_result"
    }
   ],
   "source": [
    "cutoffs[0]"
   ]
  },
  {
   "cell_type": "code",
   "execution_count": 130,
   "metadata": {},
   "outputs": [],
   "source": [
    "num_genes_above_filter_downsampled = []\n",
    "increment = .1\n",
    "cutoffs_downsampled = [i * increment for i in range(200) if (i * increment < 1 and  i * increment > .3)  ]\n",
    "for i in cutoffs_downsampled:\n",
    "    num_genes_above_filter_downsampled.append(percent_nonzero[percent_nonzero > i].shape[0])\n",
    "    "
   ]
  },
  {
   "cell_type": "code",
   "execution_count": 132,
   "metadata": {},
   "outputs": [
    {
     "data": {
      "image/png": "[encoded data removed]",
      "text/plain": [
       "<matplotlib.figure.Figure at 0x123ea0510>"
      ]
     },
     "metadata": {},
     "output_type": "display_data"
    }
   ],
   "source": [
    "plt.scatter(cutoffs, num_genes_above_filter)\n",
    "plt.scatter(cutoffs_downsampled, num_genes_above_filter_downsampled, c='red', s =70)\n",
    "plt.xlabel('Percentage of Nonzero Expression across the {} samples'.format(exp.shape[1]))\n",
    "plt.ylabel('Number of Genes')\n",
    "plt.title('Characteristics of the Terminal Filament Cell Matrix')\n",
    "plt.ylim( (-100, 10000) )\n",
    "plt.xlim((-.02, 1.02))\n",
    "plt.show()"
   ]
  },
  {
   "cell_type": "code",
   "execution_count": 137,
   "metadata": {},
   "outputs": [
    {
     "name": "stdout",
     "output_type": "stream",
     "text": [
      "Rows at a fraction of 0.3: 3687\n",
      "Rows at a fraction of 0.4: 2919\n",
      "Rows at a fraction of 0.5: 2317\n",
      "Rows at a fraction of 0.6: 1821\n",
      "Rows at a fraction of 0.7: 1404\n",
      "Rows at a fraction of 0.8: 1058\n",
      "Rows at a fraction of 0.9: 696\n"
     ]
    }
   ],
   "source": [
    "# Save samples of the filter to disk for inferelator runs\n",
    "for i in cutoffs_downsampled:\n",
    "    temp_exp = exp[percent_nonzero > i]\n",
    "    filename = 'expression_filtered_at_a_fraction_of_{}_nonzero_samples.tsv'.format(i)\n",
    "    temp_exp.to_csv(os.path.join(matrices_dir, filename), sep='\\t', index_col  = 0)\n",
    "    print 'Rows at a fraction of {}: {}'.format(i, temp_exp.shape[0])"
   ]
  },
  {
   "cell_type": "code",
   "execution_count": 139,
   "metadata": {},
   "outputs": [
    {
     "data": {
      "text/html": [
       "<div>\n",
       "<table border=\"1\" class=\"dataframe\">\n",
       "  <thead>\n",
       "    <tr style=\"text-align: right;\">\n",
       "      <th></th>\n",
       "      <th>soma_wtF_AAACCTGTCCGCAGTG</th>\n",
       "      <th>soma_wtF_AAAGTAGCAGACGCAA</th>\n",
       "      <th>soma_wtF_AACGTTGTCTCCAACC</th>\n",
       "      <th>soma_wtF_AACTCCCAGTGCCAGA</th>\n",
       "      <th>soma_wtF_AAGACCTTCTCTGCTG</th>\n",
       "      <th>soma_wtF_AAGTCTGTCCCTGACT</th>\n",
       "      <th>soma_wtF_AATCCAGGTTATTCTC</th>\n",
       "      <th>soma_wtF_ACACCAAAGCTTCGCG</th>\n",
       "      <th>soma_wtF_ACACCAATCACCGGGT</th>\n",
       "      <th>soma_wtF_ACGCAGCGTCGACTAT</th>\n",
       "      <th>...</th>\n",
       "      <th>soma_wtJ_TGACAACGTACGACCC</th>\n",
       "      <th>soma_wtJ_TGACTTTCAGACGCTC</th>\n",
       "      <th>soma_wtJ_TGCACCTCAAGCTGGA</th>\n",
       "      <th>soma_wtJ_TGCACCTTCACAACGT</th>\n",
       "      <th>soma_wtJ_TGCCAAACATTCGACA</th>\n",
       "      <th>soma_wtJ_TGGCGCACAGCATGAG</th>\n",
       "      <th>soma_wtJ_TGGCGCACAGCCACCA</th>\n",
       "      <th>soma_wtJ_TGTCCCATCCAATGGT</th>\n",
       "      <th>soma_wtJ_TTCGGTCAGAGCTGCA</th>\n",
       "      <th>soma_wtJ_TTGTAGGGTTGGACCC</th>\n",
       "    </tr>\n",
       "  </thead>\n",
       "  <tbody>\n",
       "    <tr>\n",
       "      <th>FBgn0039266</th>\n",
       "      <td>0.498776</td>\n",
       "      <td>0.452943</td>\n",
       "      <td>1.054567</td>\n",
       "      <td>0.815635</td>\n",
       "      <td>1.438181</td>\n",
       "      <td>1.183812</td>\n",
       "      <td>1.768935</td>\n",
       "      <td>0.582660</td>\n",
       "      <td>0.000000</td>\n",
       "      <td>0.694852</td>\n",
       "      <td>...</td>\n",
       "      <td>1.405993</td>\n",
       "      <td>0.655051</td>\n",
       "      <td>0.817161</td>\n",
       "      <td>1.510867</td>\n",
       "      <td>1.156705</td>\n",
       "      <td>0.776139</td>\n",
       "      <td>1.060832</td>\n",
       "      <td>0.451694</td>\n",
       "      <td>1.664950</td>\n",
       "      <td>0.516844</td>\n",
       "    </tr>\n",
       "    <tr>\n",
       "      <th>FBgn0051715</th>\n",
       "      <td>0.498776</td>\n",
       "      <td>1.490115</td>\n",
       "      <td>1.452499</td>\n",
       "      <td>1.131730</td>\n",
       "      <td>0.728035</td>\n",
       "      <td>0.757718</td>\n",
       "      <td>0.732859</td>\n",
       "      <td>0.782162</td>\n",
       "      <td>0.928446</td>\n",
       "      <td>1.100884</td>\n",
       "      <td>...</td>\n",
       "      <td>1.046528</td>\n",
       "      <td>0.655051</td>\n",
       "      <td>1.425553</td>\n",
       "      <td>0.777895</td>\n",
       "      <td>1.362494</td>\n",
       "      <td>0.941603</td>\n",
       "      <td>1.370696</td>\n",
       "      <td>0.998024</td>\n",
       "      <td>0.000000</td>\n",
       "      <td>0.516844</td>\n",
       "    </tr>\n",
       "    <tr>\n",
       "      <th>FBgn0004907</th>\n",
       "      <td>2.843025</td>\n",
       "      <td>3.125510</td>\n",
       "      <td>2.770453</td>\n",
       "      <td>2.991180</td>\n",
       "      <td>2.702910</td>\n",
       "      <td>3.115053</td>\n",
       "      <td>3.142468</td>\n",
       "      <td>2.490817</td>\n",
       "      <td>2.692947</td>\n",
       "      <td>2.642220</td>\n",
       "      <td>...</td>\n",
       "      <td>2.634348</td>\n",
       "      <td>2.699925</td>\n",
       "      <td>3.167714</td>\n",
       "      <td>2.826601</td>\n",
       "      <td>3.060651</td>\n",
       "      <td>3.113792</td>\n",
       "      <td>2.854708</td>\n",
       "      <td>2.726171</td>\n",
       "      <td>2.837339</td>\n",
       "      <td>2.885816</td>\n",
       "    </tr>\n",
       "    <tr>\n",
       "      <th>FBgn0046214</th>\n",
       "      <td>1.709633</td>\n",
       "      <td>1.351877</td>\n",
       "      <td>1.336605</td>\n",
       "      <td>1.472845</td>\n",
       "      <td>2.139720</td>\n",
       "      <td>1.481651</td>\n",
       "      <td>1.857097</td>\n",
       "      <td>1.935999</td>\n",
       "      <td>1.574108</td>\n",
       "      <td>1.948830</td>\n",
       "      <td>...</td>\n",
       "      <td>1.546603</td>\n",
       "      <td>2.232931</td>\n",
       "      <td>1.690874</td>\n",
       "      <td>2.398216</td>\n",
       "      <td>1.678755</td>\n",
       "      <td>1.867842</td>\n",
       "      <td>1.928063</td>\n",
       "      <td>1.349334</td>\n",
       "      <td>1.438426</td>\n",
       "      <td>1.621438</td>\n",
       "    </tr>\n",
       "    <tr>\n",
       "      <th>FBgn0083167</th>\n",
       "      <td>1.078449</td>\n",
       "      <td>1.817494</td>\n",
       "      <td>1.736393</td>\n",
       "      <td>1.929032</td>\n",
       "      <td>1.438181</td>\n",
       "      <td>1.602797</td>\n",
       "      <td>0.963760</td>\n",
       "      <td>1.748290</td>\n",
       "      <td>1.401465</td>\n",
       "      <td>1.388850</td>\n",
       "      <td>...</td>\n",
       "      <td>1.046528</td>\n",
       "      <td>0.000000</td>\n",
       "      <td>1.990653</td>\n",
       "      <td>1.210086</td>\n",
       "      <td>1.362494</td>\n",
       "      <td>1.417836</td>\n",
       "      <td>1.315933</td>\n",
       "      <td>1.608798</td>\n",
       "      <td>0.728202</td>\n",
       "      <td>1.108623</td>\n",
       "    </tr>\n",
       "  </tbody>\n",
       "</table>\n",
       "<p>5 rows × 175 columns</p>\n",
       "</div>"
      ],
      "text/plain": [
       "             soma_wtF_AAACCTGTCCGCAGTG  soma_wtF_AAAGTAGCAGACGCAA  \\\n",
       "FBgn0039266                   0.498776                   0.452943   \n",
       "FBgn0051715                   0.498776                   1.490115   \n",
       "FBgn0004907                   2.843025                   3.125510   \n",
       "FBgn0046214                   1.709633                   1.351877   \n",
       "FBgn0083167                   1.078449                   1.817494   \n",
       "\n",
       "             soma_wtF_AACGTTGTCTCCAACC  soma_wtF_AACTCCCAGTGCCAGA  \\\n",
       "FBgn0039266                   1.054567                   0.815635   \n",
       "FBgn0051715                   1.452499                   1.131730   \n",
       "FBgn0004907                   2.770453                   2.991180   \n",
       "FBgn0046214                   1.336605                   1.472845   \n",
       "FBgn0083167                   1.736393                   1.929032   \n",
       "\n",
       "             soma_wtF_AAGACCTTCTCTGCTG  soma_wtF_AAGTCTGTCCCTGACT  \\\n",
       "FBgn0039266                   1.438181                   1.183812   \n",
       "FBgn0051715                   0.728035                   0.757718   \n",
       "FBgn0004907                   2.702910                   3.115053   \n",
       "FBgn0046214                   2.139720                   1.481651   \n",
       "FBgn0083167                   1.438181                   1.602797   \n",
       "\n",
       "             soma_wtF_AATCCAGGTTATTCTC  soma_wtF_ACACCAAAGCTTCGCG  \\\n",
       "FBgn0039266                   1.768935                   0.582660   \n",
       "FBgn0051715                   0.732859                   0.782162   \n",
       "FBgn0004907                   3.142468                   2.490817   \n",
       "FBgn0046214                   1.857097                   1.935999   \n",
       "FBgn0083167                   0.963760                   1.748290   \n",
       "\n",
       "             soma_wtF_ACACCAATCACCGGGT  soma_wtF_ACGCAGCGTCGACTAT  \\\n",
       "FBgn0039266                   0.000000                   0.694852   \n",
       "FBgn0051715                   0.928446                   1.100884   \n",
       "FBgn0004907                   2.692947                   2.642220   \n",
       "FBgn0046214                   1.574108                   1.948830   \n",
       "FBgn0083167                   1.401465                   1.388850   \n",
       "\n",
       "                       ...              soma_wtJ_TGACAACGTACGACCC  \\\n",
       "FBgn0039266            ...                               1.405993   \n",
       "FBgn0051715            ...                               1.046528   \n",
       "FBgn0004907            ...                               2.634348   \n",
       "FBgn0046214            ...                               1.546603   \n",
       "FBgn0083167            ...                               1.046528   \n",
       "\n",
       "             soma_wtJ_TGACTTTCAGACGCTC  soma_wtJ_TGCACCTCAAGCTGGA  \\\n",
       "FBgn0039266                   0.655051                   0.817161   \n",
       "FBgn0051715                   0.655051                   1.425553   \n",
       "FBgn0004907                   2.699925                   3.167714   \n",
       "FBgn0046214                   2.232931                   1.690874   \n",
       "FBgn0083167                   0.000000                   1.990653   \n",
       "\n",
       "             soma_wtJ_TGCACCTTCACAACGT  soma_wtJ_TGCCAAACATTCGACA  \\\n",
       "FBgn0039266                   1.510867                   1.156705   \n",
       "FBgn0051715                   0.777895                   1.362494   \n",
       "FBgn0004907                   2.826601                   3.060651   \n",
       "FBgn0046214                   2.398216                   1.678755   \n",
       "FBgn0083167                   1.210086                   1.362494   \n",
       "\n",
       "             soma_wtJ_TGGCGCACAGCATGAG  soma_wtJ_TGGCGCACAGCCACCA  \\\n",
       "FBgn0039266                   0.776139                   1.060832   \n",
       "FBgn0051715                   0.941603                   1.370696   \n",
       "FBgn0004907                   3.113792                   2.854708   \n",
       "FBgn0046214                   1.867842                   1.928063   \n",
       "FBgn0083167                   1.417836                   1.315933   \n",
       "\n",
       "             soma_wtJ_TGTCCCATCCAATGGT  soma_wtJ_TTCGGTCAGAGCTGCA  \\\n",
       "FBgn0039266                   0.451694                   1.664950   \n",
       "FBgn0051715                   0.998024                   0.000000   \n",
       "FBgn0004907                   2.726171                   2.837339   \n",
       "FBgn0046214                   1.349334                   1.438426   \n",
       "FBgn0083167                   1.608798                   0.728202   \n",
       "\n",
       "             soma_wtJ_TTGTAGGGTTGGACCC  \n",
       "FBgn0039266                   0.516844  \n",
       "FBgn0051715                   0.516844  \n",
       "FBgn0004907                   2.885816  \n",
       "FBgn0046214                   1.621438  \n",
       "FBgn0083167                   1.108623  \n",
       "\n",
       "[5 rows x 175 columns]"
      ]
     },
     "execution_count": 139,
     "metadata": {},
     "output_type": "execute_result"
    }
   ],
   "source": [
    "temp_exp.head()"
   ]
  },
  {
   "cell_type": "code",
   "execution_count": 86,
   "metadata": {
    "collapsed": true
   },
   "outputs": [],
   "source": [
    "joint_df = pd.DataFrame([percent_nonzero, row_medians]).transpose()"
   ]
  },
  {
   "cell_type": "code",
   "execution_count": 91,
   "metadata": {},
   "outputs": [
    {
     "data": {
      "image/png": "[encoded data removed]",
      "text/plain": [
       "<matplotlib.figure.Figure at 0x11e8ef350>"
      ]
     },
     "metadata": {},
     "output_type": "display_data"
    }
   ],
   "source": [
    "joint_df.columns = ['Percent nonzero across the {} samples'.format(exp.shape[1]), 'Median Log Count per Gene']\n",
    "sns.jointplot(joint_df.columns[0], joint_df.columns[1], joint_df)\n",
    "plt.show()"
   ]
  },
  {
   "cell_type": "code",
   "execution_count": 140,
   "metadata": {},
   "outputs": [
    {
     "ename": "ImportError",
     "evalue": "No module named bbsr_tfa_workflow",
     "output_type": "error",
     "traceback": [
      "\u001b[0;31m---------------------------------------------------------------------------\u001b[0m",
      "\u001b[0;31mImportError\u001b[0m                               Traceback (most recent call last)",
      "\u001b[0;32m<ipython-input-140-32cb3e766dc7>\u001b[0m in \u001b[0;36m<module>\u001b[0;34m()\u001b[0m\n\u001b[0;32m----> 1\u001b[0;31m \u001b[0;32mfrom\u001b[0m \u001b[0minferelator_ng\u001b[0m\u001b[0;34m.\u001b[0m\u001b[0mbbsr_tfa_workflow\u001b[0m \u001b[0;32mimport\u001b[0m \u001b[0mBBSR_TFA_Workflow\u001b[0m\u001b[0;34m\u001b[0m\u001b[0m\n\u001b[0m\u001b[1;32m      2\u001b[0m \u001b[0;34m\u001b[0m\u001b[0m\n\u001b[1;32m      3\u001b[0m \u001b[0mworkflow\u001b[0m \u001b[0;34m=\u001b[0m \u001b[0mBBSR_TFA_Workflow\u001b[0m\u001b[0;34m(\u001b[0m\u001b[0;34m)\u001b[0m\u001b[0;34m\u001b[0m\u001b[0m\n\u001b[1;32m      4\u001b[0m \u001b[0;31m# Common configuration parameters\u001b[0m\u001b[0;34m\u001b[0m\u001b[0;34m\u001b[0m\u001b[0m\n\u001b[1;32m      5\u001b[0m \u001b[0mworkflow\u001b[0m\u001b[0;34m.\u001b[0m\u001b[0minput_dir\u001b[0m \u001b[0;34m=\u001b[0m \u001b[0;34m'data/dmel'\u001b[0m\u001b[0;34m\u001b[0m\u001b[0m\n",
      "\u001b[0;31mImportError\u001b[0m: No module named bbsr_tfa_workflow"
     ]
    }
   ],
   "source": [
    "from inferelator_ng.bbsr_tfa_workflow import BBSR_TFA_Workflow\n",
    "\n",
    "workflow = BBSR_TFA_Workflow()\n",
    "# Common configuration parameters\n",
    "workflow.input_dir = 'data/dmel_TF_filtered_experiment'\n",
    "workflow.num_bootstraps = 20\n",
    "workflow.delTmax = 110\n",
    "workflow.delTmin = 0\n",
    "workflow.expression_matrix_file = 'expression_filtered_at_a_fraction_of_0.3_nonzero_samples.tsv'\n",
    "workflow.tau = 45\n",
    "workflow.random_seed = 1\n",
    "workflow.priors_file = 'prior_with_tfs_filtered_by_one_percent_expression.tsv'\n",
    "workflow.run()"
   ]
  },
  {
   "cell_type": "code",
   "execution_count": null,
   "metadata": {
    "collapsed": true
   },
   "outputs": [],
   "source": []
  }
 ],
 "metadata": {
  "kernelspec": {
   "display_name": "Python 2",
   "language": "python",
   "name": "python2"
  },
  "language_info": {
   "codemirror_mode": {
    "name": "ipython",
    "version": 2
   },
   "file_extension": ".py",
   "mimetype": "text/x-python",
   "name": "python",
   "nbconvert_exporter": "python",
   "pygments_lexer": "ipython2",
   "version": "2.7.11"
  }
 },
 "nbformat": 4,
 "nbformat_minor": 1
}
