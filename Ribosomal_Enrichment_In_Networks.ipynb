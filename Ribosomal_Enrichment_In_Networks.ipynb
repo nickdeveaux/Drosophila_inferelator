{
 "cells": [
  {
   "cell_type": "code",
   "execution_count": 42,
   "metadata": {
    "collapsed": true
   },
   "outputs": [],
   "source": [
    "import csv\n",
    "import os\n",
    "import scipy.io\n",
    "import matplotlib.pyplot as plt\n",
    "%matplotlib inline\n",
    "import seaborn as sns\n",
    "import numpy as np\n",
    "import pandas as pd"
   ]
  },
  {
   "cell_type": "code",
   "execution_count": 43,
   "metadata": {
    "collapsed": true
   },
   "outputs": [],
   "source": [
    "matrices_dir = \"/Users/ndeveaux/Dropbox (Simons Foundation)/Drosophila_Inferelator_Project/network_inputs_and_outputs/outputs\""
   ]
  },
  {
   "cell_type": "code",
   "execution_count": 44,
   "metadata": {
    "collapsed": true
   },
   "outputs": [],
   "source": [
    "new_nets = ['2018-06-13_13-41-39',\n",
    "'2018-06-15_05-25-53']"
   ]
  },
  {
   "cell_type": "code",
   "execution_count": 45,
   "metadata": {
    "collapsed": true
   },
   "outputs": [],
   "source": [
    "gtf = pd.read_csv('~/Dev/Drosophila_inferelator/Drosophila_melanogaster.BDGP6.91.genes.gtf', sep='\\t', header = None)"
   ]
  },
  {
   "cell_type": "code",
   "execution_count": 46,
   "metadata": {
    "collapsed": true
   },
   "outputs": [],
   "source": [
    "gene_id_to_sym = {}\n",
    "for (idx, row) in gtf.iterrows():\n",
    "    st = row[8]\n",
    "    splits = st.split(';')\n",
    "    i = splits[0].split(\" \")[1].strip('\"')\n",
    "    sym = splits[1].split(\" \")[2].strip('\"').rstrip(';').rstrip('\"').replace(';', '')\n",
    "    gene_id_to_sym[i] = sym"
   ]
  },
  {
   "cell_type": "code",
   "execution_count": 47,
   "metadata": {
    "collapsed": true
   },
   "outputs": [],
   "source": [
    "def get_symbol(fbgn_id):\n",
    "    if fbgn_id in gene_id_to_sym.keys():\n",
    "        return gene_id_to_sym[fbgn_id]\n",
    "    return fbgn_id"
   ]
  },
  {
   "cell_type": "code",
   "execution_count": 48,
   "metadata": {
    "collapsed": true
   },
   "outputs": [],
   "source": [
    "def convert_net(net):\n",
    "    to_gephi_net = net.copy()\n",
    "    to_gephi_net['Target'] = [get_symbol(i) for i in net['target']]\n",
    "    to_gephi_net['Source'] = [get_symbol(i) for i in net['regulator']]\n",
    "    to_gephi_net = to_gephi_net.drop(['target', 'regulator'], axis=1)\n",
    "    return to_gephi_net"
   ]
  },
  {
   "cell_type": "code",
   "execution_count": 49,
   "metadata": {
    "collapsed": false
   },
   "outputs": [],
   "source": [
    "old_nets = ['WtJ_and_WtF_KNN_Smoothed_data/2018-03-28_16-19-38', 'WtJ_and_WtF_KNN_Smoothed_data/2018-03-28_13-49-36', 'WtJ_and_WtF_KNN_Smoothed_data/2018-03-28_12-57-21']"
   ]
  },
  {
   "cell_type": "code",
   "execution_count": 50,
   "metadata": {
    "collapsed": true
   },
   "outputs": [],
   "source": [
    "net_dict = {}"
   ]
  },
  {
   "cell_type": "code",
   "execution_count": 51,
   "metadata": {
    "collapsed": false
   },
   "outputs": [],
   "source": [
    "for n in old_nets + new_nets:\n",
    "    net = pd.read_csv(os.path.join(os.path.join(matrices_dir, n), 'network.tsv'), sep='\\t')\n",
    "    net_dict[n] = convert_net(net)"
   ]
  },
  {
   "cell_type": "code",
   "execution_count": 52,
   "metadata": {
    "collapsed": true
   },
   "outputs": [],
   "source": [
    "gephi_nets = ['cutoff_0.5_to_gephi_network.tsv', 'cutoff_0.7_to_gephi_network.tsv', 'cutoff_0.3_to_gephi_network.tsv', 'cutoff_0.9_to_gephi_network.tsv']"
   ]
  },
  {
   "cell_type": "code",
   "execution_count": 53,
   "metadata": {
    "collapsed": false
   },
   "outputs": [],
   "source": [
    "for g in gephi_nets:\n",
    "    net = pd.read_csv(os.path.join(os.path.join(matrices_dir, 'dmel_expression_TF_filtered_experiment'), g), sep='\\t')\n",
    "    net_dict[g] = net"
   ]
  },
  {
   "cell_type": "code",
   "execution_count": 54,
   "metadata": {
    "collapsed": true
   },
   "outputs": [],
   "source": [
    "#add embryo\n",
    "embryo_net_location = '/Users/ndeveaux/Dropbox (Simons Foundation)/Drosophila_Inferelator_Project/embryo_network/2018-05-04_14-31-31_no_smoothing/network.tsv'\n",
    "net = pd.read_csv(embryo_net_location, sep = '\\t')\n",
    "net_dict['embryo'] = convert_net(net)"
   ]
  },
  {
   "cell_type": "code",
   "execution_count": 55,
   "metadata": {
    "collapsed": false
   },
   "outputs": [
    {
     "name": "stdout",
     "output_type": "stream",
     "text": [
      "embryo network:\n",
      "number of entries: 8242\n",
      "number of ribosomal gene entries: 417\n",
      "percentage of entries that are ribosomal: 5.06%\n",
      "50% beta cutoff: 10.0\n",
      "\n",
      "cutoff_0.3_to_gephi_network.tsv network:\n",
      "number of entries: 642\n",
      "number of ribosomal gene entries: 90\n",
      "percentage of entries that are ribosomal: 14.02%\n",
      "50% beta cutoff: 10.0\n",
      "\n",
      "cutoff_0.5_to_gephi_network.tsv network:\n",
      "number of entries: 522\n",
      "number of ribosomal gene entries: 92\n",
      "percentage of entries that are ribosomal: 17.62%\n",
      "50% beta cutoff: 10.0\n",
      "\n",
      "cutoff_0.9_to_gephi_network.tsv network:\n",
      "number of entries: 348\n",
      "number of ribosomal gene entries: 112\n",
      "percentage of entries that are ribosomal: 32.18%\n",
      "50% beta cutoff: 10.0\n",
      "\n",
      "WtJ_and_WtF_KNN_Smoothed_data/2018-03-28_13-49-36 network:\n",
      "number of entries: 5195\n",
      "number of ribosomal gene entries: 139\n",
      "percentage of entries that are ribosomal: 2.68%\n",
      "50% beta cutoff: 30.0\n",
      "\n",
      "2018-06-13_13-41-39 network:\n",
      "number of entries: 6495\n",
      "number of ribosomal gene entries: 454\n",
      "percentage of entries that are ribosomal: 6.99%\n",
      "50% beta cutoff: 10.0\n",
      "\n",
      "WtJ_and_WtF_KNN_Smoothed_data/2018-03-28_16-19-38 network:\n",
      "number of entries: 4519\n",
      "number of ribosomal gene entries: 134\n",
      "percentage of entries that are ribosomal: 2.97%\n",
      "50% beta cutoff: 30.0\n",
      "\n",
      "2018-06-15_05-25-53 network:\n",
      "number of entries: 5714\n",
      "number of ribosomal gene entries: 412\n",
      "percentage of entries that are ribosomal: 7.21%\n",
      "50% beta cutoff: 10.0\n",
      "\n",
      "WtJ_and_WtF_KNN_Smoothed_data/2018-03-28_12-57-21 network:\n",
      "number of entries: 5346\n",
      "number of ribosomal gene entries: 119\n",
      "percentage of entries that are ribosomal: 2.23%\n",
      "50% beta cutoff: 30.0\n",
      "\n",
      "cutoff_0.7_to_gephi_network.tsv network:\n",
      "number of entries: 455\n",
      "number of ribosomal gene entries: 95\n",
      "percentage of entries that are ribosomal: 20.88%\n",
      "50% beta cutoff: 10.0\n",
      "\n"
     ]
    }
   ],
   "source": [
    "for n in net_dict:\n",
    "    net = net_dict[n]\n",
    "    max_beta = np.max(net['beta.non.zero'])\n",
    "    cutoff = max_beta / 2.0\n",
    "    filtered_net= net[net['beta.non.zero'] > cutoff ]\n",
    "    ribos = [r for r in filtered_net['Target'] if r.startswith('Rp')]\n",
    "    print('{} network:'.format(n))\n",
    "    print('number of entries: {}'.format(filtered_net.shape[0]))\n",
    "    print('number of ribosomal gene entries: {}'.format(len(ribos)))\n",
    "    print('percentage of entries that are ribosomal: {0:.2f}%'.format(100*len(ribos) / filtered_net.shape[0]))\n",
    "    print('50% beta cutoff: {}'.format(cutoff))\n",
    "    print()\n",
    "    "
   ]
  },
  {
   "cell_type": "code",
   "execution_count": 56,
   "metadata": {
    "collapsed": true
   },
   "outputs": [],
   "source": [
    "# Save nets \n",
    "names = ['fly_factor_survey_TFs_to_gephi_network.tsv', 'Marbach_and_fly_factor_survey_TFs_to_gephi_network.tsv']\n",
    "for idx, n in enumerate(new_nets):\n",
    "    net_dict[n].to_csv(os.path.join(os.path.join(matrices_dir, n), names[idx]), sep='\\t')\n",
    "    "
   ]
  },
  {
   "cell_type": "code",
   "execution_count": 57,
   "metadata": {
    "collapsed": false
   },
   "outputs": [
    {
     "data": {
      "text/plain": [
       "'Marbach_and_fly_factor_survey_to_gephi_network.tsv'"
      ]
     },
     "execution_count": 57,
     "metadata": {},
     "output_type": "execute_result"
    }
   ],
   "source": [
    "'Marbach_and_fly_factor_survey_to_gephi_network.tsv'"
   ]
  },
  {
   "cell_type": "code",
   "execution_count": 58,
   "metadata": {
    "collapsed": false
   },
   "outputs": [
    {
     "data": {
      "text/plain": [
       "['2018-06-13_13-41-39', '2018-06-15_05-25-53']"
      ]
     },
     "execution_count": 58,
     "metadata": {},
     "output_type": "execute_result"
    }
   ],
   "source": [
    "new_nets"
   ]
  },
  {
   "cell_type": "code",
   "execution_count": null,
   "metadata": {
    "collapsed": true
   },
   "outputs": [],
   "source": []
  }
 ],
 "metadata": {
  "kernelspec": {
   "display_name": "Python 3",
   "language": "python",
   "name": "python3"
  },
  "language_info": {
   "codemirror_mode": {
    "name": "ipython",
    "version": 3
   },
   "file_extension": ".py",
   "mimetype": "text/x-python",
   "name": "python",
   "nbconvert_exporter": "python",
   "pygments_lexer": "ipython3",
   "version": "3.4.5"
  }
 },
 "nbformat": 4,
 "nbformat_minor": 2
}
