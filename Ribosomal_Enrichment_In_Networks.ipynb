{
 "cells": [
  {
   "cell_type": "code",
   "execution_count": 1,
   "metadata": {
    "collapsed": true
   },
   "outputs": [],
   "source": [
    "import csv\n",
    "import os\n",
    "import scipy.io\n",
    "import matplotlib.pyplot as plt\n",
    "%matplotlib inline\n",
    "import seaborn as sns\n",
    "import numpy as np\n",
    "import pandas as pd"
   ]
  },
  {
   "cell_type": "code",
   "execution_count": 2,
   "metadata": {
    "collapsed": true
   },
   "outputs": [],
   "source": [
    "matrices_dir = \"/Users/ndeveaux/Dropbox (Simons Foundation)/Drosophila_Inferelator_Project/network_inputs_and_outputs/outputs\""
   ]
  },
  {
   "cell_type": "code",
   "execution_count": 3,
   "metadata": {
    "collapsed": true
   },
   "outputs": [],
   "source": [
    "new_nets = ['2018-06-13_13-41-39',\n",
    "'2018-06-15_05-25-53']"
   ]
  },
  {
   "cell_type": "code",
   "execution_count": 4,
   "metadata": {
    "collapsed": true
   },
   "outputs": [],
   "source": [
    "gtf = pd.read_csv('~/Dev/Drosophila_inferelator/Drosophila_melanogaster.BDGP6.91.genes.gtf', sep='\\t', header = None)"
   ]
  },
  {
   "cell_type": "code",
   "execution_count": 5,
   "metadata": {
    "collapsed": true
   },
   "outputs": [],
   "source": [
    "gene_id_to_sym = {}\n",
    "for (idx, row) in gtf.iterrows():\n",
    "    st = row[8]\n",
    "    splits = st.split(';')\n",
    "    i = splits[0].split(\" \")[1].strip('\"')\n",
    "    sym = splits[1].split(\" \")[2].strip('\"').rstrip(';').rstrip('\"').replace(';', '')\n",
    "    gene_id_to_sym[i] = sym"
   ]
  },
  {
   "cell_type": "code",
   "execution_count": 7,
   "metadata": {
    "collapsed": true
   },
   "outputs": [],
   "source": [
    "def get_symbol(fbgn_id):\n",
    "    if fbgn_id in gene_id_to_sym.keys():\n",
    "        return gene_id_to_sym[fbgn_id]\n",
    "    return fbgn_id"
   ]
  },
  {
   "cell_type": "code",
   "execution_count": 8,
   "metadata": {
    "collapsed": true
   },
   "outputs": [],
   "source": [
    "def convert_net(net):\n",
    "    to_gephi_net = net.copy()\n",
    "    to_gephi_net['Target'] = [get_symbol(i) for i in net['target']]\n",
    "    to_gephi_net['Source'] = [get_symbol(i) for i in net['regulator']]\n",
    "    to_gephi_net = to_gephi_net.drop(['target', 'regulator'], axis=1)\n",
    "    return to_gephi_net"
   ]
  },
  {
   "cell_type": "code",
   "execution_count": 17,
   "metadata": {
    "collapsed": false
   },
   "outputs": [],
   "source": [
    "old_nets = ['2018-03-06_09-10-03', 'dmel_expression_TF_filtered_experiment/2018-03-15_08-15-20', 'WtJ_and_WtF_KNN_Smoothed_data/2018-03-28_16-19-38']"
   ]
  },
  {
   "cell_type": "code",
   "execution_count": 18,
   "metadata": {
    "collapsed": true
   },
   "outputs": [],
   "source": [
    "net_dict = {}"
   ]
  },
  {
   "cell_type": "code",
   "execution_count": 19,
   "metadata": {
    "collapsed": false
   },
   "outputs": [],
   "source": [
    "for n in old_nets + new_nets:\n",
    "    net = pd.read_csv(os.path.join(os.path.join(matrices_dir, n), 'network.tsv'), sep='\\t')\n",
    "    net_dict[n] = convert_net(net)"
   ]
  },
  {
   "cell_type": "code",
   "execution_count": 31,
   "metadata": {
    "collapsed": true
   },
   "outputs": [],
   "source": [
    "gephi_nets = ['cutoff_0.5_to_gephi_network.tsv', 'cutoff_0.7_to_gephi_network.tsv', 'cutoff_0.3_to_gephi_network.tsv', 'cutoff_0.9_to_gephi_network.tsv']"
   ]
  },
  {
   "cell_type": "code",
   "execution_count": 32,
   "metadata": {
    "collapsed": false
   },
   "outputs": [],
   "source": [
    "for g in gephi_nets:\n",
    "    net = pd.read_csv(os.path.join(os.path.join(matrices_dir, 'dmel_expression_TF_filtered_experiment'), g), sep='\\t')\n",
    "    net_dict[g] = net"
   ]
  },
  {
   "cell_type": "code",
   "execution_count": 33,
   "metadata": {
    "collapsed": false
   },
   "outputs": [
    {
     "name": "stdout",
     "output_type": "stream",
     "text": [
      "2018-03-06_09-10-03\n",
      "2928\n",
      "87\n",
      "5.0\n",
      "0.02971311475409836\n",
      "cutoff_0.3_to_gephi_network.tsv\n",
      "642\n",
      "90\n",
      "10.0\n",
      "0.14018691588785046\n",
      "cutoff_0.5_to_gephi_network.tsv\n",
      "522\n",
      "92\n",
      "10.0\n",
      "0.17624521072796934\n",
      "dmel_expression_TF_filtered_experiment/2018-03-15_08-15-20\n",
      "348\n",
      "112\n",
      "10.0\n",
      "0.3218390804597701\n",
      "cutoff_0.9_to_gephi_network.tsv\n",
      "348\n",
      "112\n",
      "10.0\n",
      "0.3218390804597701\n",
      "2018-06-13_13-41-39\n",
      "6495\n",
      "454\n",
      "10.0\n",
      "0.06989992301770592\n",
      "WtJ_and_WtF_KNN_Smoothed_data/2018-03-28_16-19-38\n",
      "4519\n",
      "134\n",
      "30.0\n",
      "0.02965257800398318\n",
      "2018-06-15_05-25-53\n",
      "5714\n",
      "412\n",
      "10.0\n",
      "0.07210360518025902\n",
      "cutoff_0.7_to_gephi_network.tsv\n",
      "455\n",
      "95\n",
      "10.0\n",
      "0.2087912087912088\n"
     ]
    }
   ],
   "source": [
    "for n in net_dict:\n",
    "    net = net_dict[n]\n",
    "    max_beta = np.max(net['beta.non.zero'])\n",
    "    cutoff = max_beta / 2.0\n",
    "    filtered_net= net[net['beta.non.zero'] > cutoff ]\n",
    "    ribos = [r for r in filtered_net['Target'] if r.startswith('Rp')]\n",
    "    print(n)\n",
    "    print(filtered_net.shape[0])\n",
    "    print(len(ribos))\n",
    "    print(cutoff)\n",
    "    print(len(ribos) / filtered_net.shape[0])\n",
    "    "
   ]
  },
  {
   "cell_type": "code",
   "execution_count": 35,
   "metadata": {
    "collapsed": true
   },
   "outputs": [],
   "source": [
    "# Save nets \n",
    "names = ['fly_factor_survey_TFs_to_gephi_network.tsv', 'Marbach_and_fly_factor_survey_TFs_to_gephi_network.tsv']\n",
    "for idx, n in enumerate(new_nets):\n",
    "    net_dict[n].to_csv(os.path.join(os.path.join(matrices_dir, n), names[idx]), sep='\\t')\n",
    "    "
   ]
  },
  {
   "cell_type": "code",
   "execution_count": null,
   "metadata": {
    "collapsed": true
   },
   "outputs": [],
   "source": [
    "'Marbach_and_fly_factor_survey_to_gephi_network.tsv'"
   ]
  },
  {
   "cell_type": "code",
   "execution_count": 34,
   "metadata": {
    "collapsed": false
   },
   "outputs": [
    {
     "data": {
      "text/plain": [
       "['2018-06-13_13-41-39', '2018-06-15_05-25-53']"
      ]
     },
     "execution_count": 34,
     "metadata": {},
     "output_type": "execute_result"
    }
   ],
   "source": [
    "new_nets"
   ]
  },
  {
   "cell_type": "code",
   "execution_count": null,
   "metadata": {
    "collapsed": true
   },
   "outputs": [],
   "source": []
  }
 ],
 "metadata": {
  "kernelspec": {
   "display_name": "Python 3",
   "language": "python",
   "name": "python3"
  },
  "language_info": {
   "codemirror_mode": {
    "name": "ipython",
    "version": 3
   },
   "file_extension": ".py",
   "mimetype": "text/x-python",
   "name": "python",
   "nbconvert_exporter": "python",
   "pygments_lexer": "ipython3",
   "version": "3.4.5"
  }
 },
 "nbformat": 4,
 "nbformat_minor": 2
}
