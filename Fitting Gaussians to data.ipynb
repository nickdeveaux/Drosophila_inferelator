{
 "cells": [
  {
   "cell_type": "code",
   "execution_count": 35,
   "metadata": {
    "collapsed": true
   },
   "outputs": [],
   "source": [
    "import numpy as np\n",
    "import matplotlib.pyplot as plt\n",
    "import matplotlib as mpl\n",
    "from scipy.optimize import curve_fit\n",
    "%matplotlib inline\n",
    "import os\n",
    "import csv\n",
    "import os\n",
    "import scipy.io\n",
    "import matplotlib.pyplot as plt\n",
    "%matplotlib inline\n",
    "import seaborn as sns\n",
    "import numpy as np\n",
    "import pandas as pd\n",
    "\n",
    "# Create data:\n",
    "x0, sigma = 0, 0.1\n",
    "y, xe  = np.histogram(np.random.normal(x0, sigma, 1000))\n",
    "x = .5 * (xe[:-1] + xe[1:])"
   ]
  },
  {
   "cell_type": "code",
   "execution_count": 9,
   "metadata": {
    "collapsed": false
   },
   "outputs": [
    {
     "data": {
      "text/plain": [
       "<matplotlib.collections.PathCollection at 0x1051a1710>"
      ]
     },
     "execution_count": 9,
     "metadata": {},
     "output_type": "execute_result"
    },
    {
     "data": {
      "image/png": "[encoded data removed]",
      "text/plain": [
       "<matplotlib.figure.Figure at 0x105145850>"
      ]
     },
     "metadata": {},
     "output_type": "display_data"
    }
   ],
   "source": [
    "plt.scatter(y, x)"
   ]
  },
  {
   "cell_type": "code",
   "execution_count": 2,
   "metadata": {
    "collapsed": true
   },
   "outputs": [],
   "source": [
    "\n",
    "# Function to be fitted\n",
    "def gauss(x, x0, y0, sigma):\n",
    "    p = [x0, y0, sigma]\n",
    "    return p[1]* np.exp(-((x-p[0])/p[2])**2)\n",
    "\n",
    "# Initialization parameters\n",
    "p0 = [1., 1., 1.]\n",
    "# Fit the data with the function\n",
    "fit, tmp = curve_fit(gauss, x, y, p0=p0)"
   ]
  },
  {
   "cell_type": "code",
   "execution_count": 3,
   "metadata": {
    "collapsed": false
   },
   "outputs": [
    {
     "data": {
      "image/png": "[encoded data removed]",
      "text/plain": [
       "<matplotlib.figure.Figure at 0x104be7790>"
      ]
     },
     "metadata": {},
     "output_type": "display_data"
    }
   ],
   "source": [
    "\n",
    "# Plot the results\n",
    "plt.title('Fit parameters:\\n x0=%.2e y0=%.2e sigma=%.2e' % (fit[0], fit[1], fit[2]))\n",
    "# Data\n",
    "plt.plot(x, y, 'r--')\n",
    "# Fitted function\n",
    "x_fine = np.linspace(xe[0], xe[-1], 100)\n",
    "plt.plot(x_fine, gauss(x_fine, fit[0], fit[1], fit[2]), 'b-')\n",
    "plt.show()"
   ]
  },
  {
   "cell_type": "code",
   "execution_count": 66,
   "metadata": {
    "collapsed": false
   },
   "outputs": [
    {
     "name": "stdout",
     "output_type": "stream",
     "text": [
      "Automatically created module for IPython interactive environment\n"
     ]
    }
   ],
   "source": [
    "\n",
    "import numpy as np\n",
    "import sklearn\n",
    "from sklearn import datasets\n",
    "from sklearn.mixture import GaussianMixture\n",
    "from sklearn.model_selection import StratifiedKFold\n",
    "\n",
    "print(__doc__)\n",
    "\n",
    "colors = ['navy', 'turquoise', 'darkorange']\n"
   ]
  },
  {
   "cell_type": "code",
   "execution_count": 11,
   "metadata": {
    "collapsed": true
   },
   "outputs": [],
   "source": [
    "\n",
    "\n",
    "def make_ellipses(gmm, ax):\n",
    "    for n, color in enumerate(colors):\n",
    "        if gmm.covariance_type == 'full':\n",
    "            covariances = gmm.covariances_[n][:2, :2]\n",
    "        elif gmm.covariance_type == 'tied':\n",
    "            covariances = gmm.covariances_[:2, :2]\n",
    "        elif gmm.covariance_type == 'diag':\n",
    "            covariances = np.diag(gmm.covariances_[n][:2])\n",
    "        elif gmm.covariance_type == 'spherical':\n",
    "            covariances = np.eye(gmm.means_.shape[1]) * gmm.covariances_[n]\n",
    "        v, w = np.linalg.eigh(covariances)\n",
    "        u = w[0] / np.linalg.norm(w[0])\n",
    "        angle = np.arctan2(u[1], u[0])\n",
    "        angle = 180 * angle / np.pi  # convert to degrees\n",
    "        v = 2. * np.sqrt(2.) * np.sqrt(v)\n",
    "        ell = mpl.patches.Ellipse(gmm.means_[n, :2], v[0], v[1],\n",
    "                                  180 + angle, color=color)\n",
    "        ell.set_clip_box(ax.bbox)\n",
    "        ell.set_alpha(0.5)\n",
    "        ax.add_artist(ell)\n",
    "\n",
    "iris = datasets.load_iris()\n",
    "\n",
    "# Break up the dataset into non-overlapping training (75%) and testing\n",
    "# (25%) sets.\n",
    "skf = StratifiedKFold(n_splits=4)\n",
    "# Only take the first fold.\n",
    "train_index, test_index = next(iter(skf.split(iris.data, iris.target)))\n",
    "\n",
    "\n",
    "X_train = iris.data[train_index]\n",
    "y_train = iris.target[train_index]\n",
    "X_test = iris.data[test_index]\n",
    "y_test = iris.target[test_index]"
   ]
  },
  {
   "cell_type": "code",
   "execution_count": 12,
   "metadata": {
    "collapsed": true
   },
   "outputs": [],
   "source": [
    "\n",
    "n_classes = len(np.unique(y_train))\n",
    "\n",
    "# Try GMMs using different types of covariances.\n",
    "estimators = dict((cov_type, GaussianMixture(n_components=n_classes,\n",
    "                   covariance_type=cov_type, max_iter=20, random_state=0))\n",
    "                  for cov_type in ['spherical', 'diag', 'tied', 'full'])\n",
    "\n",
    "n_estimators = len(estimators)"
   ]
  },
  {
   "cell_type": "code",
   "execution_count": 14,
   "metadata": {
    "collapsed": false
   },
   "outputs": [
    {
     "data": {
      "text/plain": [
       "<matplotlib.figure.Figure at 0x1064652d0>"
      ]
     },
     "metadata": {},
     "output_type": "display_data"
    }
   ],
   "source": [
    "\n",
    "\n",
    "plt.figure(figsize=(3 * n_estimators // 2, 6))\n",
    "plt.subplots_adjust(bottom=.01, top=0.95, hspace=.15, wspace=.05,\n",
    "                    left=.01, right=.99)\n"
   ]
  },
  {
   "cell_type": "code",
   "execution_count": 17,
   "metadata": {
    "collapsed": false
   },
   "outputs": [
    {
     "data": {
      "image/png": "[encoded data removed]",
      "text/plain": [
       "<matplotlib.figure.Figure at 0x106536910>"
      ]
     },
     "metadata": {},
     "output_type": "display_data"
    }
   ],
   "source": [
    "\n",
    "\n",
    "for index, (name, estimator) in enumerate(estimators.items()):\n",
    "    # Since we have class labels for the training data, we can\n",
    "    # initialize the GMM parameters in a supervised manner.\n",
    "    estimator.means_init = np.array([X_train[y_train == i].mean(axis=0)\n",
    "                                    for i in range(n_classes)])\n",
    "\n",
    "    # Train the other parameters using the EM algorithm.\n",
    "    estimator.fit(X_train)\n",
    "\n",
    "    h = plt.subplot(2, n_estimators // 2, index + 1)\n",
    "    make_ellipses(estimator, h)\n",
    "\n",
    "    for n, color in enumerate(colors):\n",
    "        data = iris.data[iris.target == n]\n",
    "        plt.scatter(data[:, 0], data[:, 1], s=0.8, color=color,\n",
    "                    label=iris.target_names[n])\n",
    "    # Plot the test data with crosses\n",
    "    for n, color in enumerate(colors):\n",
    "        data = X_test[y_test == n]\n",
    "        plt.scatter(data[:, 0], data[:, 1], marker='x', color=color)\n",
    "\n",
    "    y_train_pred = estimator.predict(X_train)\n",
    "    train_accuracy = np.mean(y_train_pred.ravel() == y_train.ravel()) * 100\n",
    "    plt.text(0.05, 0.9, 'Train accuracy: %.1f' % train_accuracy,\n",
    "             transform=h.transAxes)\n",
    "\n",
    "    y_test_pred = estimator.predict(X_test)\n",
    "    test_accuracy = np.mean(y_test_pred.ravel() == y_test.ravel()) * 100\n",
    "    plt.text(0.05, 0.8, 'Test accuracy: %.1f' % test_accuracy,\n",
    "             transform=h.transAxes)\n",
    "\n",
    "    plt.xticks(())\n",
    "    plt.yticks(())\n",
    "    plt.title(name)\n",
    "\n",
    "plt.legend(scatterpoints=1, loc='lower right', prop=dict(size=12))\n",
    "\n",
    "\n",
    "plt.show()"
   ]
  },
  {
   "cell_type": "code",
   "execution_count": 244,
   "metadata": {
    "collapsed": false
   },
   "outputs": [
    {
     "data": {
      "image/png": "[encoded data removed]",
      "text/plain": [
       "<matplotlib.figure.Figure at 0x11c9f6750>"
      ]
     },
     "metadata": {},
     "output_type": "display_data"
    }
   ],
   "source": [
    "import itertools\n",
    "\n",
    "import numpy as np\n",
    "from scipy import linalg\n",
    "import matplotlib.pyplot as plt\n",
    "import matplotlib as mpl\n",
    "\n",
    "from sklearn import mixture\n",
    "\n",
    "color_iter = itertools.cycle(['navy', 'c', 'cornflowerblue', 'gold',\n",
    "                              'darkorange'])\n",
    "\n",
    "\n",
    "def plot_results(X, Y_, means, covariances, index, title):\n",
    "    splot = plt.subplot(2, 1, 1 + index)\n",
    "    num_components = 0 \n",
    "    for i, (mean, covar, color) in enumerate(zip(\n",
    "            means, covariances, color_iter)):\n",
    "        v, w = linalg.eigh(covar)\n",
    "        v = 2. * np.sqrt(2.) * np.sqrt(v)\n",
    "        u = w[0] / linalg.norm(w[0])\n",
    "        # as the DP will not use every component it has access to\n",
    "        # unless it needs it, we shouldn't plot the redundant\n",
    "        # components.\n",
    "        if not np.any(Y_ == i):\n",
    "            continue\n",
    "        num_components = num_components + 1\n",
    "        plt.scatter(X[Y_ == i, 0], X[Y_ == i, 1], .8, color=color)\n",
    "\n",
    "        # Plot an ellipse to show the Gaussian component\n",
    "        angle = np.arctan(u[1] / u[0])\n",
    "        angle = 180. * angle / np.pi  # convert to degrees\n",
    "        ell = mpl.patches.Ellipse(mean, v[0], v[1], 180. + angle, color=color)\n",
    "        ell.set_clip_box(splot.bbox)\n",
    "        ell.set_alpha(0.5)\n",
    "        splot.add_artist(ell)\n",
    "\n",
    "    plt.xticks(())\n",
    "    plt.yticks(())\n",
    "    plt.title(title.format(num_components))\n",
    "\n",
    "\n",
    "# Number of samples per component\n",
    "n_samples = 500\n",
    "\n",
    "# Generate random sample, two components\n",
    "np.random.seed(0)\n",
    "C = np.array([[0., -0.1], [1.7, .4]])\n",
    "X = np.r_[np.dot(np.random.randn(n_samples, 2), C),\n",
    "          .7 * np.random.randn(n_samples, 2) + np.array([-6, 3])]\n",
    "\n",
    "# Fit a Gaussian mixture with EM using five components\n",
    "gmm = mixture.GaussianMixture(n_components=10, covariance_type='full').fit(X)\n",
    "plot_results(X, gmm.predict(X), gmm.means_, gmm.covariances_, 0,\n",
    "             'Gaussian Mixture with {} components')\n",
    "\n",
    "# Fit a Dirichlet process Gaussian mixture using five components\n",
    "dpgmm = mixture.BayesianGaussianMixture(n_components=2,\n",
    "                                        covariance_type='full').fit(X)\n",
    "plot_results(X, dpgmm.predict(X), dpgmm.means_, dpgmm.covariances_, 1,\n",
    "             'Bayesian Gaussian Mixture with a Dirichlet process prior with {} components')\n",
    "\n",
    "plt.show()"
   ]
  },
  {
   "cell_type": "code",
   "execution_count": 25,
   "metadata": {
    "collapsed": false
   },
   "outputs": [
    {
     "data": {
      "text/plain": [
       "(1000, 2)"
      ]
     },
     "execution_count": 25,
     "metadata": {},
     "output_type": "execute_result"
    }
   ],
   "source": [
    "X.shape"
   ]
  },
  {
   "cell_type": "code",
   "execution_count": 36,
   "metadata": {
    "collapsed": false
   },
   "outputs": [],
   "source": [
    "folder_to_name = {'hsbam': 'hsbam',\n",
    "                  'wtF': 'wtF',\n",
    "                  'wtJ': 'wtJ',\n",
    "                  '96h': '96h',\n",
    "                  'traffic_jam': 'tj_dpp',\n",
    "                  'bam_mutants': 'bam',\n",
    "                  'oskar': 'osk'\n",
    "                 }\n",
    "matrices_dir = \"/Users/ndeveaux/Dropbox (Simons Foundation)/Drosophila_Inferelator_Project\"\n",
    "data_frames = {}\n",
    "\n",
    "tech = 'cellranger'\n",
    "\n",
    "for folder in folder_to_name:\n",
    "    subfolder = folder_to_name[folder]\n",
    "    matrix_dir = os.path.join(os.path.join(matrices_dir,subfolder), tech)\n",
    "    mat = scipy.io.mmread(os.path.join(matrix_dir, \"matrix.mtx\"))\n",
    " \n",
    "    genes_path = os.path.join(matrix_dir, \"genes.tsv\")\n",
    "    gene_ids = [row[0] for row in csv.reader(open(genes_path), delimiter=\"\\t\")]\n",
    "    gene_names = [row[1] for row in csv.reader(open(genes_path), delimiter=\"\\t\")]\n",
    " \n",
    "    barcodes_path = os.path.join(matrix_dir, \"barcodes.tsv\")\n",
    "    barcodes = [row[0] for row in csv.reader(open(barcodes_path), delimiter=\"\\t\")]\n",
    "    arr=mat.toarray()\n",
    "    df = pd.DataFrame(arr)\n",
    "    df.index = gene_names\n",
    "    df.columns = barcodes \n",
    "    data_frames[folder] = df"
   ]
  },
  {
   "cell_type": "code",
   "execution_count": 37,
   "metadata": {
    "collapsed": true
   },
   "outputs": [],
   "source": [
    "germ_cell_metagene = ['bru1',\n",
    "'Pdcd4',\n",
    "'RpS5b',\n",
    "'AGO3',\n",
    "'vas',\n",
    "'ovo',\n",
    "'TfIIA-S',\n",
    "'CG9926']"
   ]
  },
  {
   "cell_type": "code",
   "execution_count": 38,
   "metadata": {
    "collapsed": true
   },
   "outputs": [],
   "source": [
    "dset = 'wtJ' # 'wtF'"
   ]
  },
  {
   "cell_type": "code",
   "execution_count": 300,
   "metadata": {
    "collapsed": true
   },
   "outputs": [],
   "source": [
    "df = data_frames[dset]\n",
    "# Minimum of gene expressed in 3 cells, minimum of 100 genes per cell\n",
    "df = df.loc[df.sum(axis = 1) > 3,df.sum(axis = 0) > 100]\n",
    "mito_df = df[[x.__contains__(\"mt:\") for x in df.index]]\n",
    "percent_mito = mito_df.sum(axis=0)/df.sum(axis = 0)\n",
    "percent_mito_5percent = percent_mito < 0.05\n",
    "df = df.loc[:, percent_mito_5percent]\n",
    "    "
   ]
  },
  {
   "cell_type": "code",
   "execution_count": 298,
   "metadata": {
    "collapsed": false
   },
   "outputs": [],
   "source": [
    "germcs = df.loc[germ_cell_metagene,(df.loc[germ_cell_metagene,:] > 0).all()]"
   ]
  },
  {
   "cell_type": "code",
   "execution_count": 270,
   "metadata": {
    "collapsed": false
   },
   "outputs": [
    {
     "data": {
      "text/plain": [
       "(8, 244)"
      ]
     },
     "execution_count": 270,
     "metadata": {},
     "output_type": "execute_result"
    }
   ],
   "source": [
    "germcs.shape"
   ]
  },
  {
   "cell_type": "code",
   "execution_count": 192,
   "metadata": {
    "collapsed": false
   },
   "outputs": [
    {
     "data": {
      "text/plain": [
       "(10117, 1178)"
      ]
     },
     "execution_count": 192,
     "metadata": {},
     "output_type": "execute_result"
    }
   ],
   "source": [
    "df.shape"
   ]
  },
  {
   "cell_type": "code",
   "execution_count": 265,
   "metadata": {
    "collapsed": false
   },
   "outputs": [],
   "source": [
    "combined = df\n",
    "scale_factor = 10000\n",
    "# pseudocount added so that log isn't taken of 0\n",
    "combined_transformed = np.log((combined / combined.sum() *  scale_factor) + 1)"
   ]
  },
  {
   "cell_type": "code",
   "execution_count": 118,
   "metadata": {
    "collapsed": false
   },
   "outputs": [
    {
     "data": {
      "text/plain": [
       "<matplotlib.collections.PathCollection at 0x10dc915d0>"
      ]
     },
     "execution_count": 118,
     "metadata": {},
     "output_type": "execute_result"
    },
    {
     "data": {
      "image/png": "[encoded data removed]",
      "text/plain": [
       "<matplotlib.figure.Figure at 0x10ddee3d0>"
      ]
     },
     "metadata": {},
     "output_type": "display_data"
    }
   ],
   "source": [
    "plt.scatter(combined_transformed.loc[['RpS5b'],:], combined_transformed.loc[['Pdcd4'],:])"
   ]
  },
  {
   "cell_type": "code",
   "execution_count": 119,
   "metadata": {
    "collapsed": false
   },
   "outputs": [],
   "source": [
    "pca = sklearn.decomposition.PCA(n_components=10)"
   ]
  },
  {
   "cell_type": "code",
   "execution_count": 120,
   "metadata": {
    "collapsed": false
   },
   "outputs": [
    {
     "name": "stdout",
     "output_type": "stream",
     "text": [
      "[ 0.82632718  0.09508408  0.01246114  0.00993035  0.00600179  0.00384051\n",
      "  0.00285367  0.00221781  0.00188262  0.00134004]\n"
     ]
    }
   ],
   "source": [
    "X = df.transpose() # combined_transformed.transpose()\n",
    "pca.fit(X)\n",
    "print(pca.explained_variance_ratio_)  "
   ]
  },
  {
   "cell_type": "code",
   "execution_count": 177,
   "metadata": {
    "collapsed": false
   },
   "outputs": [
    {
     "data": {
      "text/plain": [
       "(11985, 1178)"
      ]
     },
     "execution_count": 177,
     "metadata": {},
     "output_type": "execute_result"
    }
   ],
   "source": [
    "combined.shape"
   ]
  },
  {
   "cell_type": "code",
   "execution_count": 122,
   "metadata": {
    "collapsed": false
   },
   "outputs": [],
   "source": [
    "X_r = pca.fit(X).transform(X)"
   ]
  },
  {
   "cell_type": "code",
   "execution_count": 107,
   "metadata": {
    "collapsed": false
   },
   "outputs": [
    {
     "data": {
      "text/plain": [
       "[0, 1, 2, 3, 4, 5, 6, 7]"
      ]
     },
     "execution_count": 107,
     "metadata": {},
     "output_type": "execute_result"
    }
   ],
   "source": [
    "range(len(germ_cell_metagene))"
   ]
  },
  {
   "cell_type": "code",
   "execution_count": 108,
   "metadata": {
    "collapsed": false
   },
   "outputs": [
    {
     "data": {
      "text/plain": [
       "array([ 0.10655075,  0.14439312, -0.38959214,  0.20946436,  0.42961888,\n",
       "        0.69591137, -0.1264427 ,  0.29544447])"
      ]
     },
     "execution_count": 108,
     "metadata": {},
     "output_type": "execute_result"
    }
   ],
   "source": [
    "pca.components_[0]"
   ]
  },
  {
   "cell_type": "code",
   "execution_count": 109,
   "metadata": {
    "collapsed": false
   },
   "outputs": [
    {
     "data": {
      "image/png": "[encoded data removed]",
      "text/plain": [
       "<matplotlib.figure.Figure at 0x10daefe90>"
      ]
     },
     "metadata": {},
     "output_type": "display_data"
    },
    {
     "data": {
      "image/png": "[encoded data removed]",
      "text/plain": [
       "<matplotlib.figure.Figure at 0x10dc46f90>"
      ]
     },
     "metadata": {},
     "output_type": "display_data"
    }
   ],
   "source": [
    "plt.bar(range(len(germ_cell_metagene)), pca.components_[0], label = germ_cell_metagene)\n",
    "plt.show()\n",
    "plt.bar(range(len(germ_cell_metagene)), pca.components_[1], label = germ_cell_metagene)\n",
    "plt.show()\n"
   ]
  },
  {
   "cell_type": "code",
   "execution_count": 126,
   "metadata": {
    "collapsed": false
   },
   "outputs": [
    {
     "data": {
      "text/plain": [
       "<matplotlib.collections.PathCollection at 0x10d763690>"
      ]
     },
     "execution_count": 126,
     "metadata": {},
     "output_type": "execute_result"
    },
    {
     "data": {
      "image/png": "[encoded data removed]",
      "text/plain": [
       "<matplotlib.figure.Figure at 0x12d2a2890>"
      ]
     },
     "metadata": {},
     "output_type": "display_data"
    }
   ],
   "source": [
    "plt.scatter(X_r[:, 0], X_r[:, 1])"
   ]
  },
  {
   "cell_type": "code",
   "execution_count": 127,
   "metadata": {
    "collapsed": false
   },
   "outputs": [
    {
     "data": {
      "text/plain": [
       "(1178, 10)"
      ]
     },
     "execution_count": 127,
     "metadata": {},
     "output_type": "execute_result"
    }
   ],
   "source": [
    "X_r.shape"
   ]
  },
  {
   "cell_type": "code",
   "execution_count": 129,
   "metadata": {
    "collapsed": false
   },
   "outputs": [
    {
     "data": {
      "text/plain": [
       "array([[  8.05385801e+02,   6.29000786e+02,  -1.13148608e+02, ...,\n",
       "         -4.51810239e+01,  -1.59390786e+01,   2.18247800e+01],\n",
       "       [  9.90503696e+02,  -3.52080015e+02,  -5.74213239e+01, ...,\n",
       "          5.43594276e+01,  -3.04302021e+01,   4.38715387e+01],\n",
       "       [ -1.43724332e+02,  -4.48799949e+02,   1.48357654e+02, ...,\n",
       "         -7.89407616e+01,  -6.08401023e+01,  -1.05788376e+01],\n",
       "       ..., \n",
       "       [  1.64935546e+03,   1.24478758e+03,  -1.60219994e+02, ...,\n",
       "         -1.03025441e+02,   4.28495988e+01,   4.54167686e+01],\n",
       "       [ -7.22032412e+02,  -5.06299945e+01,  -4.64219912e-01, ...,\n",
       "          3.21528090e+01,   3.27055233e+01,  -2.81208859e+01],\n",
       "       [ -4.49552649e+02,  -1.21368422e+02,  -1.51045365e+02, ...,\n",
       "         -3.31693504e+01,   4.83324623e+01,   2.48553332e+01]])"
      ]
     },
     "execution_count": 129,
     "metadata": {},
     "output_type": "execute_result"
    }
   ],
   "source": [
    "X_r"
   ]
  },
  {
   "cell_type": "code",
   "execution_count": 156,
   "metadata": {
    "collapsed": false
   },
   "outputs": [
    {
     "data": {
      "image/png": "[encoded data removed]",
      "text/plain": [
       "<matplotlib.figure.Figure at 0x10ed6a050>"
      ]
     },
     "metadata": {},
     "output_type": "display_data"
    }
   ],
   "source": [
    "# Fit a Dirichlet process Gaussian mixture using five components\n",
    "dpgmm = mixture.BayesianGaussianMixture(n_components=15,\n",
    "                                        covariance_type='full').fit(X_r[:, [0,9]])\n",
    "plt.figure(figsize=(20, 20))\n",
    "plot_results(X_r[:, [0,1]], dpgmm.predict(X_r[:, [0,9]]), dpgmm.means_, dpgmm.covariances_, 1,\n",
    "             'Bayesian Gaussian Mixture with a Dirichlet process prior with {} components')\n",
    "\n",
    "plt.show()"
   ]
  },
  {
   "cell_type": "code",
   "execution_count": 148,
   "metadata": {
    "collapsed": false
   },
   "outputs": [
    {
     "data": {
      "text/plain": [
       "array([[[  6.18878856e+05,  -1.34819737e+04],\n",
       "        [ -1.34819737e+04,   1.79119793e+04]],\n",
       "\n",
       "       [[  7.71888346e+04,  -6.09211050e+03],\n",
       "        [ -6.09211050e+03,   2.47158263e+03]],\n",
       "\n",
       "       [[  2.01198932e+05,   3.54929777e+04],\n",
       "        [  3.54929777e+04,   3.12120099e+04]],\n",
       "\n",
       "       [[  3.92170928e+05,  -6.12978828e+04],\n",
       "        [ -6.12978828e+04,   1.91860177e+04]],\n",
       "\n",
       "       [[  1.60649446e+05,  -2.18214924e+04],\n",
       "        [ -2.18214924e+04,   1.06630635e+04]],\n",
       "\n",
       "       [[  5.79656359e+05,   8.98267493e+03],\n",
       "        [  8.98267493e+03,   4.10834444e+03]],\n",
       "\n",
       "       [[  6.53173647e+04,  -1.03878017e+03],\n",
       "        [ -1.03878017e+03,   1.07996880e+03]],\n",
       "\n",
       "       [[  4.78367390e+05,  -8.80946180e+01],\n",
       "        [ -8.80946180e+01,   7.24501590e+03]],\n",
       "\n",
       "       [[  4.78397249e+05,  -8.70361225e+01],\n",
       "        [ -8.70361225e+01,   7.24509247e+03]],\n",
       "\n",
       "       [[  4.78426678e+05,  -8.59929493e+01],\n",
       "        [ -8.59929493e+01,   7.24516794e+03]],\n",
       "\n",
       "       [[  1.94288638e+06,   4.66088621e+05],\n",
       "        [  4.66088621e+05,   1.39536084e+05]],\n",
       "\n",
       "       [[  8.46337252e+04,   4.76781798e+01],\n",
       "        [  4.76781798e+01,   3.30942004e+03]],\n",
       "\n",
       "       [[  4.80859436e+05,  -2.05175812e-05],\n",
       "        [ -2.05175812e-05,   7.25143547e+03]],\n",
       "\n",
       "       [[  4.80859436e+05,  -1.69249526e-11],\n",
       "        [ -1.69249526e-11,   7.25143547e+03]],\n",
       "\n",
       "       [[  4.80859436e+05,  -1.05708494e-11],\n",
       "        [ -1.05708494e-11,   7.25143547e+03]]])"
      ]
     },
     "execution_count": 148,
     "metadata": {},
     "output_type": "execute_result"
    }
   ],
   "source": [
    "dpgmm.covariances_"
   ]
  },
  {
   "cell_type": "code",
   "execution_count": 267,
   "metadata": {
    "collapsed": true
   },
   "outputs": [],
   "source": [
    "## Focus on reproducing seurat analysis\n",
    "def LogVMR(X):\n",
    "  return np.log(np.var(np.exp(X) - 1, axis = 1) / np.mean(np.exp(X) - 1, axis = 1))\n",
    "def ExpMean(X):\n",
    "  return np.log(np.mean(np.exp(X) - 1, axis = 1) + 1)\n"
   ]
  },
  {
   "cell_type": "code",
   "execution_count": 268,
   "metadata": {
    "collapsed": false
   },
   "outputs": [
    {
     "data": {
      "text/plain": [
       "<matplotlib.text.Text at 0x12e424810>"
      ]
     },
     "execution_count": 268,
     "metadata": {},
     "output_type": "execute_result"
    },
    {
     "data": {
      "image/png": "[encoded data removed]",
      "text/plain": [
       "<matplotlib.figure.Figure at 0x12fdd6e10>"
      ]
     },
     "metadata": {},
     "output_type": "display_data"
    }
   ],
   "source": [
    "plt.scatter(ExpMean(combined_transformed), LogVMR(combined_transformed))\n",
    "plt.xlabel('mean')\n",
    "plt.ylabel('var')"
   ]
  },
  {
   "cell_type": "code",
   "execution_count": 166,
   "metadata": {
    "collapsed": false
   },
   "outputs": [
    {
     "data": {
      "text/plain": [
       "217.17913591974047"
      ]
     },
     "execution_count": 166,
     "metadata": {},
     "output_type": "execute_result"
    }
   ],
   "source": [
    "np.var(np.exp(X) - 1)"
   ]
  },
  {
   "cell_type": "code",
   "execution_count": 281,
   "metadata": {
    "collapsed": false
   },
   "outputs": [],
   "source": [
    "# remove germ from df\n",
    "df_no_germs = df.loc[:, [x not in germcs.columns  for x in df.columns]]"
   ]
  },
  {
   "cell_type": "code",
   "execution_count": 301,
   "metadata": {
    "collapsed": false
   },
   "outputs": [
    {
     "data": {
      "image/png": "[encoded data removed]",
      "text/plain": [
       "<matplotlib.figure.Figure at 0x11d055350>"
      ]
     },
     "metadata": {},
     "output_type": "display_data"
    }
   ],
   "source": [
    "mito_df = df[[x.__contains__(\"mt:\") for x in df.index]]\n",
    "percent_mito = mito_df.sum(axis=0)/df.sum(axis = 0)\n",
    "nGene = df[df > 0].count(axis = 0)\n",
    "nUMI = df.sum(axis = 0)\n",
    "plt.scatter(nUMI, nGene, color = 'orange')\n",
    "mito_df = df_no_germs[[x.__contains__(\"mt:\") for x in df_no_germs.index]]\n",
    "percent_mito = mito_df.sum(axis=0)/df_no_germs.sum(axis = 0)\n",
    "nGene = df_no_germs[df_no_germs > 0].count(axis = 0)\n",
    "nUMI = df_no_germs.sum(axis = 0)\n",
    "plt.scatter(nUMI, nGene)\n",
    "plt.xlabel('nUMI')\n",
    "plt.ylabel('nGene')\n",
    "plt.legend(['germ', 'others'])\n",
    "plt.show()"
   ]
  },
  {
   "cell_type": "code",
   "execution_count": 282,
   "metadata": {
    "collapsed": true
   },
   "outputs": [],
   "source": []
  },
  {
   "cell_type": "code",
   "execution_count": 283,
   "metadata": {
    "collapsed": false
   },
   "outputs": [
    {
     "data": {
      "text/plain": [
       "<matplotlib.text.Text at 0x12ff1d150>"
      ]
     },
     "execution_count": 283,
     "metadata": {},
     "output_type": "execute_result"
    },
    {
     "data": {
      "image/png": "[encoded data removed]",
      "text/plain": [
       "<matplotlib.figure.Figure at 0x11b8faad0>"
      ]
     },
     "metadata": {},
     "output_type": "display_data"
    }
   ],
   "source": [
    "plt.scatter(nUMI, nGene)\n",
    "plt.xlabel('nUMI')\n",
    "plt.ylabel('nGene')"
   ]
  },
  {
   "cell_type": "code",
   "execution_count": 233,
   "metadata": {
    "collapsed": false
   },
   "outputs": [
    {
     "data": {
      "text/plain": [
       "<matplotlib.collections.PathCollection at 0x11bbeeb10>"
      ]
     },
     "execution_count": 233,
     "metadata": {},
     "output_type": "execute_result"
    },
    {
     "data": {
      "image/png": "[encoded data removed]",
      "text/plain": [
       "<matplotlib.figure.Figure at 0x11b810c50>"
      ]
     },
     "metadata": {},
     "output_type": "display_data"
    }
   ],
   "source": [
    "plt.scatter(dat[:, 0], dat[:, 1])"
   ]
  },
  {
   "cell_type": "code",
   "execution_count": 285,
   "metadata": {
    "collapsed": false
   },
   "outputs": [],
   "source": [
    "dat = np.array([nUMI.get_values(), nGene.get_values()]).transpose()"
   ]
  },
  {
   "cell_type": "code",
   "execution_count": 286,
   "metadata": {
    "collapsed": false
   },
   "outputs": [],
   "source": [
    "dat_train = np.array([dat[:, 1], [np.mean(nUMI) for i in range(len(dat[:, 0]))]]).transpose()"
   ]
  },
  {
   "cell_type": "code",
   "execution_count": 287,
   "metadata": {
    "collapsed": false
   },
   "outputs": [
    {
     "data": {
      "text/plain": [
       "array([[  4407.        ,  20279.38115632],\n",
       "       [  1735.        ,  20279.38115632],\n",
       "       [  2628.        ,  20279.38115632],\n",
       "       ..., \n",
       "       [  4544.        ,  20279.38115632],\n",
       "       [  2496.        ,  20279.38115632],\n",
       "       [  2670.        ,  20279.38115632]])"
      ]
     },
     "execution_count": 287,
     "metadata": {},
     "output_type": "execute_result"
    }
   ],
   "source": [
    "dat_train"
   ]
  },
  {
   "cell_type": "code",
   "execution_count": 288,
   "metadata": {
    "collapsed": false
   },
   "outputs": [
    {
     "data": {
      "text/plain": [
       "[20279.381156316915,\n",
       " 20279.381156316915,\n",
       " 20279.381156316915,\n",
       " 20279.381156316915,\n",
       " 20279.381156316915,\n",
       " 20279.381156316915,\n",
       " 20279.381156316915,\n",
       " 20279.381156316915,\n",
       " 20279.381156316915,\n",
       " 20279.381156316915,\n",
       " 20279.381156316915,\n",
       " 20279.381156316915,\n",
       " 20279.381156316915,\n",
       " 20279.381156316915,\n",
       " 20279.381156316915,\n",
       " 20279.381156316915,\n",
       " 20279.381156316915,\n",
       " 20279.381156316915,\n",
       " 20279.381156316915,\n",
       " 20279.381156316915,\n",
       " 20279.381156316915,\n",
       " 20279.381156316915,\n",
       " 20279.381156316915,\n",
       " 20279.381156316915,\n",
       " 20279.381156316915,\n",
       " 20279.381156316915,\n",
       " 20279.381156316915,\n",
       " 20279.381156316915,\n",
       " 20279.381156316915,\n",
       " 20279.381156316915,\n",
       " 20279.381156316915,\n",
       " 20279.381156316915,\n",
       " 20279.381156316915,\n",
       " 20279.381156316915,\n",
       " 20279.381156316915,\n",
       " 20279.381156316915,\n",
       " 20279.381156316915,\n",
       " 20279.381156316915,\n",
       " 20279.381156316915,\n",
       " 20279.381156316915,\n",
       " 20279.381156316915,\n",
       " 20279.381156316915,\n",
       " 20279.381156316915,\n",
       " 20279.381156316915,\n",
       " 20279.381156316915,\n",
       " 20279.381156316915,\n",
       " 20279.381156316915,\n",
       " 20279.381156316915,\n",
       " 20279.381156316915,\n",
       " 20279.381156316915,\n",
       " 20279.381156316915,\n",
       " 20279.381156316915,\n",
       " 20279.381156316915,\n",
       " 20279.381156316915,\n",
       " 20279.381156316915,\n",
       " 20279.381156316915,\n",
       " 20279.381156316915,\n",
       " 20279.381156316915,\n",
       " 20279.381156316915,\n",
       " 20279.381156316915,\n",
       " 20279.381156316915,\n",
       " 20279.381156316915,\n",
       " 20279.381156316915,\n",
       " 20279.381156316915,\n",
       " 20279.381156316915,\n",
       " 20279.381156316915,\n",
       " 20279.381156316915,\n",
       " 20279.381156316915,\n",
       " 20279.381156316915,\n",
       " 20279.381156316915,\n",
       " 20279.381156316915,\n",
       " 20279.381156316915,\n",
       " 20279.381156316915,\n",
       " 20279.381156316915,\n",
       " 20279.381156316915,\n",
       " 20279.381156316915,\n",
       " 20279.381156316915,\n",
       " 20279.381156316915,\n",
       " 20279.381156316915,\n",
       " 20279.381156316915,\n",
       " 20279.381156316915,\n",
       " 20279.381156316915,\n",
       " 20279.381156316915,\n",
       " 20279.381156316915,\n",
       " 20279.381156316915,\n",
       " 20279.381156316915,\n",
       " 20279.381156316915,\n",
       " 20279.381156316915,\n",
       " 20279.381156316915,\n",
       " 20279.381156316915,\n",
       " 20279.381156316915,\n",
       " 20279.381156316915,\n",
       " 20279.381156316915,\n",
       " 20279.381156316915,\n",
       " 20279.381156316915,\n",
       " 20279.381156316915,\n",
       " 20279.381156316915,\n",
       " 20279.381156316915,\n",
       " 20279.381156316915,\n",
       " 20279.381156316915,\n",
       " 20279.381156316915,\n",
       " 20279.381156316915,\n",
       " 20279.381156316915,\n",
       " 20279.381156316915,\n",
       " 20279.381156316915,\n",
       " 20279.381156316915,\n",
       " 20279.381156316915,\n",
       " 20279.381156316915,\n",
       " 20279.381156316915,\n",
       " 20279.381156316915,\n",
       " 20279.381156316915,\n",
       " 20279.381156316915,\n",
       " 20279.381156316915,\n",
       " 20279.381156316915,\n",
       " 20279.381156316915,\n",
       " 20279.381156316915,\n",
       " 20279.381156316915,\n",
       " 20279.381156316915,\n",
       " 20279.381156316915,\n",
       " 20279.381156316915,\n",
       " 20279.381156316915,\n",
       " 20279.381156316915,\n",
       " 20279.381156316915,\n",
       " 20279.381156316915,\n",
       " 20279.381156316915,\n",
       " 20279.381156316915,\n",
       " 20279.381156316915,\n",
       " 20279.381156316915,\n",
       " 20279.381156316915,\n",
       " 20279.381156316915,\n",
       " 20279.381156316915,\n",
       " 20279.381156316915,\n",
       " 20279.381156316915,\n",
       " 20279.381156316915,\n",
       " 20279.381156316915,\n",
       " 20279.381156316915,\n",
       " 20279.381156316915,\n",
       " 20279.381156316915,\n",
       " 20279.381156316915,\n",
       " 20279.381156316915,\n",
       " 20279.381156316915,\n",
       " 20279.381156316915,\n",
       " 20279.381156316915,\n",
       " 20279.381156316915,\n",
       " 20279.381156316915,\n",
       " 20279.381156316915,\n",
       " 20279.381156316915,\n",
       " 20279.381156316915,\n",
       " 20279.381156316915,\n",
       " 20279.381156316915,\n",
       " 20279.381156316915,\n",
       " 20279.381156316915,\n",
       " 20279.381156316915,\n",
       " 20279.381156316915,\n",
       " 20279.381156316915,\n",
       " 20279.381156316915,\n",
       " 20279.381156316915,\n",
       " 20279.381156316915,\n",
       " 20279.381156316915,\n",
       " 20279.381156316915,\n",
       " 20279.381156316915,\n",
       " 20279.381156316915,\n",
       " 20279.381156316915,\n",
       " 20279.381156316915,\n",
       " 20279.381156316915,\n",
       " 20279.381156316915,\n",
       " 20279.381156316915,\n",
       " 20279.381156316915,\n",
       " 20279.381156316915,\n",
       " 20279.381156316915,\n",
       " 20279.381156316915,\n",
       " 20279.381156316915,\n",
       " 20279.381156316915,\n",
       " 20279.381156316915,\n",
       " 20279.381156316915,\n",
       " 20279.381156316915,\n",
       " 20279.381156316915,\n",
       " 20279.381156316915,\n",
       " 20279.381156316915,\n",
       " 20279.381156316915,\n",
       " 20279.381156316915,\n",
       " 20279.381156316915,\n",
       " 20279.381156316915,\n",
       " 20279.381156316915,\n",
       " 20279.381156316915,\n",
       " 20279.381156316915,\n",
       " 20279.381156316915,\n",
       " 20279.381156316915,\n",
       " 20279.381156316915,\n",
       " 20279.381156316915,\n",
       " 20279.381156316915,\n",
       " 20279.381156316915,\n",
       " 20279.381156316915,\n",
       " 20279.381156316915,\n",
       " 20279.381156316915,\n",
       " 20279.381156316915,\n",
       " 20279.381156316915,\n",
       " 20279.381156316915,\n",
       " 20279.381156316915,\n",
       " 20279.381156316915,\n",
       " 20279.381156316915,\n",
       " 20279.381156316915,\n",
       " 20279.381156316915,\n",
       " 20279.381156316915,\n",
       " 20279.381156316915,\n",
       " 20279.381156316915,\n",
       " 20279.381156316915,\n",
       " 20279.381156316915,\n",
       " 20279.381156316915,\n",
       " 20279.381156316915,\n",
       " 20279.381156316915,\n",
       " 20279.381156316915,\n",
       " 20279.381156316915,\n",
       " 20279.381156316915,\n",
       " 20279.381156316915,\n",
       " 20279.381156316915,\n",
       " 20279.381156316915,\n",
       " 20279.381156316915,\n",
       " 20279.381156316915,\n",
       " 20279.381156316915,\n",
       " 20279.381156316915,\n",
       " 20279.381156316915,\n",
       " 20279.381156316915,\n",
       " 20279.381156316915,\n",
       " 20279.381156316915,\n",
       " 20279.381156316915,\n",
       " 20279.381156316915,\n",
       " 20279.381156316915,\n",
       " 20279.381156316915,\n",
       " 20279.381156316915,\n",
       " 20279.381156316915,\n",
       " 20279.381156316915,\n",
       " 20279.381156316915,\n",
       " 20279.381156316915,\n",
       " 20279.381156316915,\n",
       " 20279.381156316915,\n",
       " 20279.381156316915,\n",
       " 20279.381156316915,\n",
       " 20279.381156316915,\n",
       " 20279.381156316915,\n",
       " 20279.381156316915,\n",
       " 20279.381156316915,\n",
       " 20279.381156316915,\n",
       " 20279.381156316915,\n",
       " 20279.381156316915,\n",
       " 20279.381156316915,\n",
       " 20279.381156316915,\n",
       " 20279.381156316915,\n",
       " 20279.381156316915,\n",
       " 20279.381156316915,\n",
       " 20279.381156316915,\n",
       " 20279.381156316915,\n",
       " 20279.381156316915,\n",
       " 20279.381156316915,\n",
       " 20279.381156316915,\n",
       " 20279.381156316915,\n",
       " 20279.381156316915,\n",
       " 20279.381156316915,\n",
       " 20279.381156316915,\n",
       " 20279.381156316915,\n",
       " 20279.381156316915,\n",
       " 20279.381156316915,\n",
       " 20279.381156316915,\n",
       " 20279.381156316915,\n",
       " 20279.381156316915,\n",
       " 20279.381156316915,\n",
       " 20279.381156316915,\n",
       " 20279.381156316915,\n",
       " 20279.381156316915,\n",
       " 20279.381156316915,\n",
       " 20279.381156316915,\n",
       " 20279.381156316915,\n",
       " 20279.381156316915,\n",
       " 20279.381156316915,\n",
       " 20279.381156316915,\n",
       " 20279.381156316915,\n",
       " 20279.381156316915,\n",
       " 20279.381156316915,\n",
       " 20279.381156316915,\n",
       " 20279.381156316915,\n",
       " 20279.381156316915,\n",
       " 20279.381156316915,\n",
       " 20279.381156316915,\n",
       " 20279.381156316915,\n",
       " 20279.381156316915,\n",
       " 20279.381156316915,\n",
       " 20279.381156316915,\n",
       " 20279.381156316915,\n",
       " 20279.381156316915,\n",
       " 20279.381156316915,\n",
       " 20279.381156316915,\n",
       " 20279.381156316915,\n",
       " 20279.381156316915,\n",
       " 20279.381156316915,\n",
       " 20279.381156316915,\n",
       " 20279.381156316915,\n",
       " 20279.381156316915,\n",
       " 20279.381156316915,\n",
       " 20279.381156316915,\n",
       " 20279.381156316915,\n",
       " 20279.381156316915,\n",
       " 20279.381156316915,\n",
       " 20279.381156316915,\n",
       " 20279.381156316915,\n",
       " 20279.381156316915,\n",
       " 20279.381156316915,\n",
       " 20279.381156316915,\n",
       " 20279.381156316915,\n",
       " 20279.381156316915,\n",
       " 20279.381156316915,\n",
       " 20279.381156316915,\n",
       " 20279.381156316915,\n",
       " 20279.381156316915,\n",
       " 20279.381156316915,\n",
       " 20279.381156316915,\n",
       " 20279.381156316915,\n",
       " 20279.381156316915,\n",
       " 20279.381156316915,\n",
       " 20279.381156316915,\n",
       " 20279.381156316915,\n",
       " 20279.381156316915,\n",
       " 20279.381156316915,\n",
       " 20279.381156316915,\n",
       " 20279.381156316915,\n",
       " 20279.381156316915,\n",
       " 20279.381156316915,\n",
       " 20279.381156316915,\n",
       " 20279.381156316915,\n",
       " 20279.381156316915,\n",
       " 20279.381156316915,\n",
       " 20279.381156316915,\n",
       " 20279.381156316915,\n",
       " 20279.381156316915,\n",
       " 20279.381156316915,\n",
       " 20279.381156316915,\n",
       " 20279.381156316915,\n",
       " 20279.381156316915,\n",
       " 20279.381156316915,\n",
       " 20279.381156316915,\n",
       " 20279.381156316915,\n",
       " 20279.381156316915,\n",
       " 20279.381156316915,\n",
       " 20279.381156316915,\n",
       " 20279.381156316915,\n",
       " 20279.381156316915,\n",
       " 20279.381156316915,\n",
       " 20279.381156316915,\n",
       " 20279.381156316915,\n",
       " 20279.381156316915,\n",
       " 20279.381156316915,\n",
       " 20279.381156316915,\n",
       " 20279.381156316915,\n",
       " 20279.381156316915,\n",
       " 20279.381156316915,\n",
       " 20279.381156316915,\n",
       " 20279.381156316915,\n",
       " 20279.381156316915,\n",
       " 20279.381156316915,\n",
       " 20279.381156316915,\n",
       " 20279.381156316915,\n",
       " 20279.381156316915,\n",
       " 20279.381156316915,\n",
       " 20279.381156316915,\n",
       " 20279.381156316915,\n",
       " 20279.381156316915,\n",
       " 20279.381156316915,\n",
       " 20279.381156316915,\n",
       " 20279.381156316915,\n",
       " 20279.381156316915,\n",
       " 20279.381156316915,\n",
       " 20279.381156316915,\n",
       " 20279.381156316915,\n",
       " 20279.381156316915,\n",
       " 20279.381156316915,\n",
       " 20279.381156316915,\n",
       " 20279.381156316915,\n",
       " 20279.381156316915,\n",
       " 20279.381156316915,\n",
       " 20279.381156316915,\n",
       " 20279.381156316915,\n",
       " 20279.381156316915,\n",
       " 20279.381156316915,\n",
       " 20279.381156316915,\n",
       " 20279.381156316915,\n",
       " 20279.381156316915,\n",
       " 20279.381156316915,\n",
       " 20279.381156316915,\n",
       " 20279.381156316915,\n",
       " 20279.381156316915,\n",
       " 20279.381156316915,\n",
       " 20279.381156316915,\n",
       " 20279.381156316915,\n",
       " 20279.381156316915,\n",
       " 20279.381156316915,\n",
       " 20279.381156316915,\n",
       " 20279.381156316915,\n",
       " 20279.381156316915,\n",
       " 20279.381156316915,\n",
       " 20279.381156316915,\n",
       " 20279.381156316915,\n",
       " 20279.381156316915,\n",
       " 20279.381156316915,\n",
       " 20279.381156316915,\n",
       " 20279.381156316915,\n",
       " 20279.381156316915,\n",
       " 20279.381156316915,\n",
       " 20279.381156316915,\n",
       " 20279.381156316915,\n",
       " 20279.381156316915,\n",
       " 20279.381156316915,\n",
       " 20279.381156316915,\n",
       " 20279.381156316915,\n",
       " 20279.381156316915,\n",
       " 20279.381156316915,\n",
       " 20279.381156316915,\n",
       " 20279.381156316915,\n",
       " 20279.381156316915,\n",
       " 20279.381156316915,\n",
       " 20279.381156316915,\n",
       " 20279.381156316915,\n",
       " 20279.381156316915,\n",
       " 20279.381156316915,\n",
       " 20279.381156316915,\n",
       " 20279.381156316915,\n",
       " 20279.381156316915,\n",
       " 20279.381156316915,\n",
       " 20279.381156316915,\n",
       " 20279.381156316915,\n",
       " 20279.381156316915,\n",
       " 20279.381156316915,\n",
       " 20279.381156316915,\n",
       " 20279.381156316915,\n",
       " 20279.381156316915,\n",
       " 20279.381156316915,\n",
       " 20279.381156316915,\n",
       " 20279.381156316915,\n",
       " 20279.381156316915,\n",
       " 20279.381156316915,\n",
       " 20279.381156316915,\n",
       " 20279.381156316915,\n",
       " 20279.381156316915,\n",
       " 20279.381156316915,\n",
       " 20279.381156316915,\n",
       " 20279.381156316915,\n",
       " 20279.381156316915,\n",
       " 20279.381156316915,\n",
       " 20279.381156316915,\n",
       " 20279.381156316915,\n",
       " 20279.381156316915,\n",
       " 20279.381156316915,\n",
       " 20279.381156316915,\n",
       " 20279.381156316915,\n",
       " 20279.381156316915,\n",
       " 20279.381156316915,\n",
       " 20279.381156316915,\n",
       " 20279.381156316915,\n",
       " 20279.381156316915,\n",
       " 20279.381156316915,\n",
       " 20279.381156316915,\n",
       " 20279.381156316915,\n",
       " 20279.381156316915,\n",
       " 20279.381156316915,\n",
       " 20279.381156316915,\n",
       " 20279.381156316915,\n",
       " 20279.381156316915,\n",
       " 20279.381156316915,\n",
       " 20279.381156316915,\n",
       " 20279.381156316915,\n",
       " 20279.381156316915,\n",
       " 20279.381156316915,\n",
       " 20279.381156316915,\n",
       " 20279.381156316915,\n",
       " 20279.381156316915,\n",
       " 20279.381156316915,\n",
       " 20279.381156316915,\n",
       " 20279.381156316915,\n",
       " 20279.381156316915,\n",
       " 20279.381156316915,\n",
       " 20279.381156316915,\n",
       " 20279.381156316915,\n",
       " 20279.381156316915,\n",
       " 20279.381156316915,\n",
       " 20279.381156316915,\n",
       " 20279.381156316915,\n",
       " 20279.381156316915,\n",
       " 20279.381156316915,\n",
       " 20279.381156316915,\n",
       " 20279.381156316915,\n",
       " 20279.381156316915,\n",
       " 20279.381156316915,\n",
       " 20279.381156316915,\n",
       " 20279.381156316915,\n",
       " 20279.381156316915,\n",
       " 20279.381156316915,\n",
       " 20279.381156316915,\n",
       " 20279.381156316915,\n",
       " 20279.381156316915,\n",
       " 20279.381156316915,\n",
       " 20279.381156316915,\n",
       " 20279.381156316915,\n",
       " 20279.381156316915,\n",
       " 20279.381156316915,\n",
       " 20279.381156316915,\n",
       " 20279.381156316915,\n",
       " 20279.381156316915,\n",
       " 20279.381156316915,\n",
       " 20279.381156316915,\n",
       " 20279.381156316915,\n",
       " 20279.381156316915,\n",
       " 20279.381156316915,\n",
       " 20279.381156316915,\n",
       " 20279.381156316915,\n",
       " 20279.381156316915,\n",
       " 20279.381156316915,\n",
       " 20279.381156316915,\n",
       " 20279.381156316915,\n",
       " 20279.381156316915,\n",
       " 20279.381156316915,\n",
       " 20279.381156316915,\n",
       " 20279.381156316915,\n",
       " 20279.381156316915,\n",
       " 20279.381156316915,\n",
       " 20279.381156316915,\n",
       " 20279.381156316915,\n",
       " 20279.381156316915,\n",
       " 20279.381156316915,\n",
       " 20279.381156316915,\n",
       " 20279.381156316915,\n",
       " 20279.381156316915,\n",
       " 20279.381156316915,\n",
       " 20279.381156316915,\n",
       " 20279.381156316915,\n",
       " 20279.381156316915,\n",
       " 20279.381156316915,\n",
       " 20279.381156316915,\n",
       " 20279.381156316915,\n",
       " 20279.381156316915,\n",
       " 20279.381156316915,\n",
       " 20279.381156316915,\n",
       " 20279.381156316915,\n",
       " 20279.381156316915,\n",
       " 20279.381156316915,\n",
       " 20279.381156316915,\n",
       " 20279.381156316915,\n",
       " 20279.381156316915,\n",
       " 20279.381156316915,\n",
       " 20279.381156316915,\n",
       " 20279.381156316915,\n",
       " 20279.381156316915,\n",
       " 20279.381156316915,\n",
       " 20279.381156316915,\n",
       " 20279.381156316915,\n",
       " 20279.381156316915,\n",
       " 20279.381156316915,\n",
       " 20279.381156316915,\n",
       " 20279.381156316915,\n",
       " 20279.381156316915,\n",
       " 20279.381156316915,\n",
       " 20279.381156316915,\n",
       " 20279.381156316915,\n",
       " 20279.381156316915,\n",
       " 20279.381156316915,\n",
       " 20279.381156316915,\n",
       " 20279.381156316915,\n",
       " 20279.381156316915,\n",
       " 20279.381156316915,\n",
       " 20279.381156316915,\n",
       " 20279.381156316915,\n",
       " 20279.381156316915,\n",
       " 20279.381156316915,\n",
       " 20279.381156316915,\n",
       " 20279.381156316915,\n",
       " 20279.381156316915,\n",
       " 20279.381156316915,\n",
       " 20279.381156316915,\n",
       " 20279.381156316915,\n",
       " 20279.381156316915,\n",
       " 20279.381156316915,\n",
       " 20279.381156316915,\n",
       " 20279.381156316915,\n",
       " 20279.381156316915,\n",
       " 20279.381156316915,\n",
       " 20279.381156316915,\n",
       " 20279.381156316915,\n",
       " 20279.381156316915,\n",
       " 20279.381156316915,\n",
       " 20279.381156316915,\n",
       " 20279.381156316915,\n",
       " 20279.381156316915,\n",
       " 20279.381156316915,\n",
       " 20279.381156316915,\n",
       " 20279.381156316915,\n",
       " 20279.381156316915,\n",
       " 20279.381156316915,\n",
       " 20279.381156316915,\n",
       " 20279.381156316915,\n",
       " 20279.381156316915,\n",
       " 20279.381156316915,\n",
       " 20279.381156316915,\n",
       " 20279.381156316915,\n",
       " 20279.381156316915,\n",
       " 20279.381156316915,\n",
       " 20279.381156316915,\n",
       " 20279.381156316915,\n",
       " 20279.381156316915,\n",
       " 20279.381156316915,\n",
       " 20279.381156316915,\n",
       " 20279.381156316915,\n",
       " 20279.381156316915,\n",
       " 20279.381156316915,\n",
       " 20279.381156316915,\n",
       " 20279.381156316915,\n",
       " 20279.381156316915,\n",
       " 20279.381156316915,\n",
       " 20279.381156316915,\n",
       " 20279.381156316915,\n",
       " 20279.381156316915,\n",
       " 20279.381156316915,\n",
       " 20279.381156316915,\n",
       " 20279.381156316915,\n",
       " 20279.381156316915,\n",
       " 20279.381156316915,\n",
       " 20279.381156316915,\n",
       " 20279.381156316915,\n",
       " 20279.381156316915,\n",
       " 20279.381156316915,\n",
       " 20279.381156316915,\n",
       " 20279.381156316915,\n",
       " 20279.381156316915,\n",
       " 20279.381156316915,\n",
       " 20279.381156316915,\n",
       " 20279.381156316915,\n",
       " 20279.381156316915,\n",
       " 20279.381156316915,\n",
       " 20279.381156316915,\n",
       " 20279.381156316915,\n",
       " 20279.381156316915,\n",
       " 20279.381156316915,\n",
       " 20279.381156316915,\n",
       " 20279.381156316915,\n",
       " 20279.381156316915,\n",
       " 20279.381156316915,\n",
       " 20279.381156316915,\n",
       " 20279.381156316915,\n",
       " 20279.381156316915,\n",
       " 20279.381156316915,\n",
       " 20279.381156316915,\n",
       " 20279.381156316915,\n",
       " 20279.381156316915,\n",
       " 20279.381156316915,\n",
       " 20279.381156316915,\n",
       " 20279.381156316915,\n",
       " 20279.381156316915,\n",
       " 20279.381156316915,\n",
       " 20279.381156316915,\n",
       " 20279.381156316915,\n",
       " 20279.381156316915,\n",
       " 20279.381156316915,\n",
       " 20279.381156316915,\n",
       " 20279.381156316915,\n",
       " 20279.381156316915,\n",
       " 20279.381156316915,\n",
       " 20279.381156316915,\n",
       " 20279.381156316915,\n",
       " 20279.381156316915,\n",
       " 20279.381156316915,\n",
       " 20279.381156316915,\n",
       " 20279.381156316915,\n",
       " 20279.381156316915,\n",
       " 20279.381156316915,\n",
       " 20279.381156316915,\n",
       " 20279.381156316915,\n",
       " 20279.381156316915,\n",
       " 20279.381156316915,\n",
       " 20279.381156316915,\n",
       " 20279.381156316915,\n",
       " 20279.381156316915,\n",
       " 20279.381156316915,\n",
       " 20279.381156316915,\n",
       " 20279.381156316915,\n",
       " 20279.381156316915,\n",
       " 20279.381156316915,\n",
       " 20279.381156316915,\n",
       " 20279.381156316915,\n",
       " 20279.381156316915,\n",
       " 20279.381156316915,\n",
       " 20279.381156316915,\n",
       " 20279.381156316915,\n",
       " 20279.381156316915,\n",
       " 20279.381156316915,\n",
       " 20279.381156316915,\n",
       " 20279.381156316915,\n",
       " 20279.381156316915,\n",
       " 20279.381156316915,\n",
       " 20279.381156316915,\n",
       " 20279.381156316915,\n",
       " 20279.381156316915,\n",
       " 20279.381156316915,\n",
       " 20279.381156316915,\n",
       " 20279.381156316915,\n",
       " 20279.381156316915,\n",
       " 20279.381156316915,\n",
       " 20279.381156316915,\n",
       " 20279.381156316915,\n",
       " 20279.381156316915,\n",
       " 20279.381156316915,\n",
       " 20279.381156316915,\n",
       " 20279.381156316915,\n",
       " 20279.381156316915,\n",
       " 20279.381156316915,\n",
       " 20279.381156316915,\n",
       " 20279.381156316915,\n",
       " 20279.381156316915,\n",
       " 20279.381156316915,\n",
       " 20279.381156316915,\n",
       " 20279.381156316915,\n",
       " 20279.381156316915,\n",
       " 20279.381156316915,\n",
       " 20279.381156316915,\n",
       " 20279.381156316915,\n",
       " 20279.381156316915,\n",
       " 20279.381156316915,\n",
       " 20279.381156316915,\n",
       " 20279.381156316915,\n",
       " 20279.381156316915,\n",
       " 20279.381156316915,\n",
       " 20279.381156316915,\n",
       " 20279.381156316915,\n",
       " 20279.381156316915,\n",
       " 20279.381156316915,\n",
       " 20279.381156316915,\n",
       " 20279.381156316915,\n",
       " 20279.381156316915,\n",
       " 20279.381156316915,\n",
       " 20279.381156316915,\n",
       " 20279.381156316915,\n",
       " 20279.381156316915,\n",
       " 20279.381156316915,\n",
       " 20279.381156316915,\n",
       " 20279.381156316915,\n",
       " 20279.381156316915,\n",
       " 20279.381156316915,\n",
       " 20279.381156316915,\n",
       " 20279.381156316915,\n",
       " 20279.381156316915,\n",
       " 20279.381156316915,\n",
       " 20279.381156316915,\n",
       " 20279.381156316915,\n",
       " 20279.381156316915,\n",
       " 20279.381156316915,\n",
       " 20279.381156316915,\n",
       " 20279.381156316915,\n",
       " 20279.381156316915,\n",
       " 20279.381156316915,\n",
       " 20279.381156316915,\n",
       " 20279.381156316915,\n",
       " 20279.381156316915,\n",
       " 20279.381156316915,\n",
       " 20279.381156316915,\n",
       " 20279.381156316915,\n",
       " 20279.381156316915,\n",
       " 20279.381156316915,\n",
       " 20279.381156316915,\n",
       " 20279.381156316915,\n",
       " 20279.381156316915,\n",
       " 20279.381156316915,\n",
       " 20279.381156316915,\n",
       " 20279.381156316915,\n",
       " 20279.381156316915,\n",
       " 20279.381156316915,\n",
       " 20279.381156316915,\n",
       " 20279.381156316915,\n",
       " 20279.381156316915,\n",
       " 20279.381156316915,\n",
       " 20279.381156316915,\n",
       " 20279.381156316915,\n",
       " 20279.381156316915,\n",
       " 20279.381156316915,\n",
       " 20279.381156316915,\n",
       " 20279.381156316915,\n",
       " 20279.381156316915,\n",
       " 20279.381156316915,\n",
       " 20279.381156316915,\n",
       " 20279.381156316915,\n",
       " 20279.381156316915,\n",
       " 20279.381156316915,\n",
       " 20279.381156316915,\n",
       " 20279.381156316915,\n",
       " 20279.381156316915,\n",
       " 20279.381156316915,\n",
       " 20279.381156316915,\n",
       " 20279.381156316915,\n",
       " 20279.381156316915,\n",
       " 20279.381156316915,\n",
       " 20279.381156316915,\n",
       " 20279.381156316915,\n",
       " 20279.381156316915,\n",
       " 20279.381156316915,\n",
       " 20279.381156316915,\n",
       " 20279.381156316915,\n",
       " 20279.381156316915,\n",
       " 20279.381156316915,\n",
       " 20279.381156316915,\n",
       " 20279.381156316915,\n",
       " 20279.381156316915,\n",
       " 20279.381156316915,\n",
       " 20279.381156316915,\n",
       " 20279.381156316915,\n",
       " 20279.381156316915,\n",
       " 20279.381156316915,\n",
       " 20279.381156316915,\n",
       " 20279.381156316915,\n",
       " 20279.381156316915,\n",
       " 20279.381156316915,\n",
       " 20279.381156316915,\n",
       " 20279.381156316915,\n",
       " 20279.381156316915,\n",
       " 20279.381156316915,\n",
       " 20279.381156316915,\n",
       " 20279.381156316915,\n",
       " 20279.381156316915,\n",
       " 20279.381156316915,\n",
       " 20279.381156316915,\n",
       " 20279.381156316915,\n",
       " 20279.381156316915,\n",
       " 20279.381156316915,\n",
       " 20279.381156316915,\n",
       " 20279.381156316915,\n",
       " 20279.381156316915,\n",
       " 20279.381156316915,\n",
       " 20279.381156316915,\n",
       " 20279.381156316915,\n",
       " 20279.381156316915,\n",
       " 20279.381156316915,\n",
       " 20279.381156316915,\n",
       " 20279.381156316915,\n",
       " 20279.381156316915,\n",
       " 20279.381156316915,\n",
       " 20279.381156316915,\n",
       " 20279.381156316915,\n",
       " 20279.381156316915,\n",
       " 20279.381156316915,\n",
       " 20279.381156316915,\n",
       " 20279.381156316915,\n",
       " 20279.381156316915,\n",
       " 20279.381156316915,\n",
       " 20279.381156316915,\n",
       " 20279.381156316915,\n",
       " 20279.381156316915,\n",
       " 20279.381156316915,\n",
       " 20279.381156316915,\n",
       " 20279.381156316915,\n",
       " 20279.381156316915,\n",
       " 20279.381156316915,\n",
       " 20279.381156316915,\n",
       " 20279.381156316915,\n",
       " 20279.381156316915,\n",
       " 20279.381156316915,\n",
       " 20279.381156316915,\n",
       " 20279.381156316915,\n",
       " 20279.381156316915,\n",
       " 20279.381156316915,\n",
       " 20279.381156316915,\n",
       " 20279.381156316915,\n",
       " 20279.381156316915,\n",
       " 20279.381156316915,\n",
       " 20279.381156316915,\n",
       " 20279.381156316915,\n",
       " 20279.381156316915,\n",
       " 20279.381156316915,\n",
       " 20279.381156316915,\n",
       " 20279.381156316915,\n",
       " 20279.381156316915,\n",
       " 20279.381156316915,\n",
       " 20279.381156316915,\n",
       " 20279.381156316915,\n",
       " 20279.381156316915,\n",
       " 20279.381156316915,\n",
       " 20279.381156316915,\n",
       " 20279.381156316915,\n",
       " 20279.381156316915,\n",
       " 20279.381156316915,\n",
       " 20279.381156316915,\n",
       " 20279.381156316915,\n",
       " 20279.381156316915,\n",
       " 20279.381156316915,\n",
       " 20279.381156316915,\n",
       " 20279.381156316915,\n",
       " 20279.381156316915,\n",
       " 20279.381156316915,\n",
       " 20279.381156316915,\n",
       " 20279.381156316915,\n",
       " 20279.381156316915,\n",
       " 20279.381156316915,\n",
       " 20279.381156316915,\n",
       " 20279.381156316915,\n",
       " 20279.381156316915,\n",
       " 20279.381156316915,\n",
       " 20279.381156316915,\n",
       " 20279.381156316915,\n",
       " 20279.381156316915,\n",
       " 20279.381156316915,\n",
       " 20279.381156316915,\n",
       " 20279.381156316915,\n",
       " 20279.381156316915,\n",
       " 20279.381156316915,\n",
       " 20279.381156316915,\n",
       " 20279.381156316915,\n",
       " 20279.381156316915,\n",
       " 20279.381156316915,\n",
       " 20279.381156316915,\n",
       " 20279.381156316915,\n",
       " 20279.381156316915,\n",
       " 20279.381156316915,\n",
       " 20279.381156316915,\n",
       " 20279.381156316915,\n",
       " 20279.381156316915,\n",
       " 20279.381156316915,\n",
       " 20279.381156316915,\n",
       " 20279.381156316915,\n",
       " 20279.381156316915,\n",
       " 20279.381156316915,\n",
       " 20279.381156316915,\n",
       " 20279.381156316915,\n",
       " 20279.381156316915,\n",
       " 20279.381156316915,\n",
       " 20279.381156316915,\n",
       " 20279.381156316915,\n",
       " 20279.381156316915,\n",
       " 20279.381156316915,\n",
       " 20279.381156316915,\n",
       " 20279.381156316915,\n",
       " 20279.381156316915,\n",
       " 20279.381156316915]"
      ]
     },
     "execution_count": 288,
     "metadata": {},
     "output_type": "execute_result"
    }
   ],
   "source": [
    "[np.mean(nUMI) for i in range(len(dat[:, 0]))]"
   ]
  },
  {
   "cell_type": "code",
   "execution_count": 249,
   "metadata": {
    "collapsed": false
   },
   "outputs": [
    {
     "data": {
      "text/plain": [
       "31976023.0"
      ]
     },
     "execution_count": 249,
     "metadata": {},
     "output_type": "execute_result"
    }
   ],
   "source": [
    "np.mean(nUMI) * len(dat[:, 0])"
   ]
  },
  {
   "cell_type": "code",
   "execution_count": 290,
   "metadata": {
    "collapsed": false
   },
   "outputs": [
    {
     "data": {
      "image/png": "[encoded data removed]",
      "text/plain": [
       "<matplotlib.figure.Figure at 0x11b7ccfd0>"
      ]
     },
     "metadata": {},
     "output_type": "display_data"
    }
   ],
   "source": [
    "# Fit a Dirichlet process Gaussian mixture using five components\n",
    "dpgmm = mixture.BayesianGaussianMixture(n_components=7,\n",
    "                                        covariance_type='full').fit(dat_train)\n",
    "plt.figure(figsize=(10, 10))\n",
    "plot_results(dat, dpgmm.predict(dat_train), dpgmm.means_, dpgmm.covariances_, 1,\n",
    "             'Bayesian Gaussian Mixture with a Dirichlet process prior with {} components')\n",
    "\n",
    "\n",
    "# Fit a Gaussian mixture with EM using five components\n",
    "gmm = mixture.GaussianMixture(n_components=3, covariance_type='full').fit(dat_train)\n",
    "plot_results(dat, gmm.predict(dat_train), gmm.means_, gmm.covariances_, 0,\n",
    "             'Gaussian Mixture with {} components')\n",
    "\n",
    "plt.show()"
   ]
  },
  {
   "cell_type": "code",
   "execution_count": 236,
   "metadata": {
    "collapsed": false
   },
   "outputs": [
    {
     "data": {
      "text/plain": [
       "array([44408, 43977, 26450, ..., 59070, 14748, 18159])"
      ]
     },
     "execution_count": 236,
     "metadata": {},
     "output_type": "execute_result"
    }
   ],
   "source": [
    "dat[:, 0]"
   ]
  },
  {
   "cell_type": "code",
   "execution_count": 237,
   "metadata": {
    "collapsed": false
   },
   "outputs": [
    {
     "data": {
      "text/plain": [
       "44408"
      ]
     },
     "execution_count": 237,
     "metadata": {},
     "output_type": "execute_result"
    }
   ],
   "source": [
    "dat[:, 0][0]"
   ]
  },
  {
   "cell_type": "code",
   "execution_count": null,
   "metadata": {
    "collapsed": true
   },
   "outputs": [],
   "source": []
  }
 ],
 "metadata": {
  "kernelspec": {
   "display_name": "Python 2",
   "language": "python",
   "name": "python2"
  },
  "language_info": {
   "codemirror_mode": {
    "name": "ipython",
    "version": 2
   },
   "file_extension": ".py",
   "mimetype": "text/x-python",
   "name": "python",
   "nbconvert_exporter": "python",
   "pygments_lexer": "ipython2",
   "version": "2.7.12"
  }
 },
 "nbformat": 4,
 "nbformat_minor": 0
}
